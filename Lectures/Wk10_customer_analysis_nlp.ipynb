{
 "cells": [
  {
   "cell_type": "markdown",
   "id": "0a434a87",
   "metadata": {
    "id": "M27qF7CTrBqc",
    "papermill": {
     "duration": 0.08539,
     "end_time": "2022-05-11T15:41:29.346303",
     "exception": false,
     "start_time": "2022-05-11T15:41:29.260913",
     "status": "completed"
    },
    "tags": []
   },
   "source": [
    "# TASK #1: UNDERSTAND THE PROBLEM STATEMENT AND BUSINESS CASE"
   ]
  },
  {
   "attachments": {
    "b7a7c257-3e08-479b-8bdb-c223ce386075.jpg": {
     "image/jpeg": "[encoded data removed]"
    }
   },
   "cell_type": "markdown",
   "id": "3bc565fe",
   "metadata": {
    "papermill": {
     "duration": 0.081317,
     "end_time": "2022-05-11T15:41:29.510458",
     "exception": false,
     "start_time": "2022-05-11T15:41:29.429141",
     "status": "completed"
    },
    "tags": []
   },
   "source": [
    "- In this project, we will use Natural Language Processing (NLP) techniques to predict customer sentiment from real customer reviews.\n",
    "\n",
    "- AI/ML-based sentiment analysis is crucial for companies to automatically predict whether their customers are happy or not.\n",
    "\n",
    "- The process could be done automatically without having humans manually review thousands of customer reviews.\n",
    "\n",
    "![Screenshot_1.jpg](attachment:b7a7c257-3e08-479b-8bdb-c223ce386075.jpg)"
   ]
  },
  {
   "cell_type": "markdown",
   "id": "e7093a4c",
   "metadata": {
    "id": "VbX0jYELZend",
    "papermill": {
     "duration": 0.081172,
     "end_time": "2022-05-11T15:41:29.673708",
     "exception": false,
     "start_time": "2022-05-11T15:41:29.592536",
     "status": "completed"
    },
    "tags": []
   },
   "source": [
    "data source: https://raw.githubusercontent.com/Dong2Yo/Dataset/main/Wk8_Reviews.csv"
   ]
  },
  {
   "cell_type": "markdown",
   "id": "4754f3e3",
   "metadata": {
    "id": "uAE6Icc0uylP",
    "papermill": {
     "duration": 0.080738,
     "end_time": "2022-05-11T15:41:29.835610",
     "exception": false,
     "start_time": "2022-05-11T15:41:29.754872",
     "status": "completed"
    },
    "tags": []
   },
   "source": [
    "# TASK #2: IMPORT LIBRARIES AND DATASETS"
   ]
  },
  {
   "cell_type": "code",
   "execution_count": 1,
   "id": "feba0a5e",
   "metadata": {
    "id": "YBp2qDPb8pDo",
    "outputId": "42021516-5452-4958-b8fb-71111552dbd3",
    "papermill": {
     "duration": 1.307666,
     "end_time": "2022-05-11T15:41:31.226419",
     "exception": false,
     "start_time": "2022-05-11T15:41:29.918753",
     "status": "completed"
    },
    "tags": []
   },
   "outputs": [],
   "source": [
    "import pandas as pd\n",
    "import numpy as np\n",
    "import seaborn as sns\n",
    "import matplotlib.pyplot as plt"
   ]
  },
  {
   "cell_type": "code",
   "execution_count": 2,
   "id": "ca495e08",
   "metadata": {
    "id": "tjIiJdM4u1IE",
    "papermill": {
     "duration": 0.146529,
     "end_time": "2022-05-11T15:41:31.458274",
     "exception": false,
     "start_time": "2022-05-11T15:41:31.311745",
     "status": "completed"
    },
    "tags": []
   },
   "outputs": [
    {
     "data": {
      "text/html": [
       "<div>\n",
       "<style scoped>\n",
       "    .dataframe tbody tr th:only-of-type {\n",
       "        vertical-align: middle;\n",
       "    }\n",
       "\n",
       "    .dataframe tbody tr th {\n",
       "        vertical-align: top;\n",
       "    }\n",
       "\n",
       "    .dataframe thead th {\n",
       "        text-align: right;\n",
       "    }\n",
       "</style>\n",
       "<table border=\"1\" class=\"dataframe\">\n",
       "  <thead>\n",
       "    <tr style=\"text-align: right;\">\n",
       "      <th></th>\n",
       "      <th>ProductID</th>\n",
       "      <th>Product</th>\n",
       "      <th>Stars</th>\n",
       "      <th>Title</th>\n",
       "      <th>Review</th>\n",
       "    </tr>\n",
       "  </thead>\n",
       "  <tbody>\n",
       "    <tr>\n",
       "      <th>0</th>\n",
       "      <td>392</td>\n",
       "      <td>Maximus RP-01</td>\n",
       "      <td>5</td>\n",
       "      <td>Great ride!</td>\n",
       "      <td>Just bought this bike. Tested it out for and h...</td>\n",
       "    </tr>\n",
       "    <tr>\n",
       "      <th>1</th>\n",
       "      <td>392</td>\n",
       "      <td>Maximus RP-01</td>\n",
       "      <td>5</td>\n",
       "      <td>Best light weight commuter road bike under 21 lbs</td>\n",
       "      <td>I searched for a while for a road bike that wa...</td>\n",
       "    </tr>\n",
       "    <tr>\n",
       "      <th>2</th>\n",
       "      <td>392</td>\n",
       "      <td>Maximus RP-01</td>\n",
       "      <td>5</td>\n",
       "      <td>great bike for the city and more</td>\n",
       "      <td>This is my first route bike so it may not be t...</td>\n",
       "    </tr>\n",
       "    <tr>\n",
       "      <th>3</th>\n",
       "      <td>394</td>\n",
       "      <td>Maximus RS-01</td>\n",
       "      <td>5</td>\n",
       "      <td>Great Bike!</td>\n",
       "      <td>Completed 60 mils on this bike, great bike. Ge...</td>\n",
       "    </tr>\n",
       "    <tr>\n",
       "      <th>4</th>\n",
       "      <td>405</td>\n",
       "      <td>Maximus UM-10</td>\n",
       "      <td>5</td>\n",
       "      <td>Great bike</td>\n",
       "      <td>On the flats I avg 14.5 to 16mph, small uphill...</td>\n",
       "    </tr>\n",
       "    <tr>\n",
       "      <th>...</th>\n",
       "      <td>...</td>\n",
       "      <td>...</td>\n",
       "      <td>...</td>\n",
       "      <td>...</td>\n",
       "      <td>...</td>\n",
       "    </tr>\n",
       "    <tr>\n",
       "      <th>85</th>\n",
       "      <td>647</td>\n",
       "      <td>Maximus UC-12</td>\n",
       "      <td>5</td>\n",
       "      <td>Ottima bici per lunghe distanze</td>\n",
       "      <td>Ho comprato la versione degli ultimi anni di q...</td>\n",
       "    </tr>\n",
       "    <tr>\n",
       "      <th>86</th>\n",
       "      <td>647</td>\n",
       "      <td>Maximus UC-12</td>\n",
       "      <td>5</td>\n",
       "      <td>Beaucoup de grandes fonctionnalités</td>\n",
       "      <td>Dans l’ensemble, je donne à ce vélo 4,5 étoile...</td>\n",
       "    </tr>\n",
       "    <tr>\n",
       "      <th>87</th>\n",
       "      <td>659</td>\n",
       "      <td>Maximus UC-24</td>\n",
       "      <td>5</td>\n",
       "      <td>Tough touring bike</td>\n",
       "      <td>Took this little number on it's first ride dow...</td>\n",
       "    </tr>\n",
       "    <tr>\n",
       "      <th>88</th>\n",
       "      <td>659</td>\n",
       "      <td>Maximus UC-24</td>\n",
       "      <td>1</td>\n",
       "      <td>Bottom bracket broke</td>\n",
       "      <td>Bought this bike for a pacific coast bike tour...</td>\n",
       "    </tr>\n",
       "    <tr>\n",
       "      <th>89</th>\n",
       "      <td>659</td>\n",
       "      <td>Maximus UC-24</td>\n",
       "      <td>2</td>\n",
       "      <td>No hydraulics brakes and more</td>\n",
       "      <td>No hydraulics brakes. a little under equipped ...</td>\n",
       "    </tr>\n",
       "  </tbody>\n",
       "</table>\n",
       "<p>90 rows × 5 columns</p>\n",
       "</div>"
      ],
      "text/plain": [
       "    ProductID        Product  Stars  \\\n",
       "0         392  Maximus RP-01      5   \n",
       "1         392  Maximus RP-01      5   \n",
       "2         392  Maximus RP-01      5   \n",
       "3         394  Maximus RS-01      5   \n",
       "4         405  Maximus UM-10      5   \n",
       "..        ...            ...    ...   \n",
       "85        647  Maximus UC-12      5   \n",
       "86        647  Maximus UC-12      5   \n",
       "87        659  Maximus UC-24      5   \n",
       "88        659  Maximus UC-24      1   \n",
       "89        659  Maximus UC-24      2   \n",
       "\n",
       "                                                Title  \\\n",
       "0                                         Great ride!   \n",
       "1   Best light weight commuter road bike under 21 lbs   \n",
       "2                    great bike for the city and more   \n",
       "3                                         Great Bike!   \n",
       "4                                          Great bike   \n",
       "..                                                ...   \n",
       "85                    Ottima bici per lunghe distanze   \n",
       "86                Beaucoup de grandes fonctionnalités   \n",
       "87                                 Tough touring bike   \n",
       "88                               Bottom bracket broke   \n",
       "89                      No hydraulics brakes and more   \n",
       "\n",
       "                                               Review  \n",
       "0   Just bought this bike. Tested it out for and h...  \n",
       "1   I searched for a while for a road bike that wa...  \n",
       "2   This is my first route bike so it may not be t...  \n",
       "3   Completed 60 mils on this bike, great bike. Ge...  \n",
       "4   On the flats I avg 14.5 to 16mph, small uphill...  \n",
       "..                                                ...  \n",
       "85  Ho comprato la versione degli ultimi anni di q...  \n",
       "86  Dans l’ensemble, je donne à ce vélo 4,5 étoile...  \n",
       "87  Took this little number on it's first ride dow...  \n",
       "88  Bought this bike for a pacific coast bike tour...  \n",
       "89  No hydraulics brakes. a little under equipped ...  \n",
       "\n",
       "[90 rows x 5 columns]"
      ]
     },
     "execution_count": 2,
     "metadata": {},
     "output_type": "execute_result"
    }
   ],
   "source": [
    "# Load the data\n",
    "reviews_df = pd.read_csv('https://raw.githubusercontent.com/Dong2Yo/Dataset/main/Wk8_Reviews.csv')\n",
    "reviews_df"
   ]
  },
  {
   "cell_type": "code",
   "execution_count": 3,
   "id": "f53906df",
   "metadata": {
    "id": "RUt2ON_UxyYk",
    "outputId": "4948f7ca-ec1b-4561-97bb-8d3ce688e623",
    "papermill": {
     "duration": 0.109446,
     "end_time": "2022-05-11T15:41:31.650413",
     "exception": false,
     "start_time": "2022-05-11T15:41:31.540967",
     "status": "completed"
    },
    "tags": []
   },
   "outputs": [
    {
     "name": "stdout",
     "output_type": "stream",
     "text": [
      "<class 'pandas.core.frame.DataFrame'>\n",
      "RangeIndex: 90 entries, 0 to 89\n",
      "Data columns (total 5 columns):\n",
      " #   Column     Non-Null Count  Dtype \n",
      "---  ------     --------------  ----- \n",
      " 0   ProductID  90 non-null     int64 \n",
      " 1   Product    90 non-null     object\n",
      " 2   Stars      90 non-null     int64 \n",
      " 3   Title      90 non-null     object\n",
      " 4   Review     90 non-null     object\n",
      "dtypes: int64(2), object(3)\n",
      "memory usage: 3.6+ KB\n"
     ]
    }
   ],
   "source": [
    "# View the DataFrame Information\n",
    "reviews_df.info()"
   ]
  },
  {
   "cell_type": "code",
   "execution_count": 4,
   "id": "3b7ce013",
   "metadata": {
    "id": "hMq3-KWOx0e1",
    "outputId": "d2e856cc-639b-4ff5-a939-dadbb237fdc1",
    "papermill": {
     "duration": 0.106638,
     "end_time": "2022-05-11T15:41:31.841707",
     "exception": false,
     "start_time": "2022-05-11T15:41:31.735069",
     "status": "completed"
    },
    "tags": []
   },
   "outputs": [
    {
     "data": {
      "text/html": [
       "<div>\n",
       "<style scoped>\n",
       "    .dataframe tbody tr th:only-of-type {\n",
       "        vertical-align: middle;\n",
       "    }\n",
       "\n",
       "    .dataframe tbody tr th {\n",
       "        vertical-align: top;\n",
       "    }\n",
       "\n",
       "    .dataframe thead th {\n",
       "        text-align: right;\n",
       "    }\n",
       "</style>\n",
       "<table border=\"1\" class=\"dataframe\">\n",
       "  <thead>\n",
       "    <tr style=\"text-align: right;\">\n",
       "      <th></th>\n",
       "      <th>ProductID</th>\n",
       "      <th>Stars</th>\n",
       "    </tr>\n",
       "  </thead>\n",
       "  <tbody>\n",
       "    <tr>\n",
       "      <th>count</th>\n",
       "      <td>90.000000</td>\n",
       "      <td>90.000000</td>\n",
       "    </tr>\n",
       "    <tr>\n",
       "      <th>mean</th>\n",
       "      <td>534.422222</td>\n",
       "      <td>4.033333</td>\n",
       "    </tr>\n",
       "    <tr>\n",
       "      <th>std</th>\n",
       "      <td>78.665267</td>\n",
       "      <td>1.275966</td>\n",
       "    </tr>\n",
       "    <tr>\n",
       "      <th>min</th>\n",
       "      <td>392.000000</td>\n",
       "      <td>1.000000</td>\n",
       "    </tr>\n",
       "    <tr>\n",
       "      <th>25%</th>\n",
       "      <td>513.000000</td>\n",
       "      <td>4.000000</td>\n",
       "    </tr>\n",
       "    <tr>\n",
       "      <th>50%</th>\n",
       "      <td>535.000000</td>\n",
       "      <td>4.500000</td>\n",
       "    </tr>\n",
       "    <tr>\n",
       "      <th>75%</th>\n",
       "      <td>559.000000</td>\n",
       "      <td>5.000000</td>\n",
       "    </tr>\n",
       "    <tr>\n",
       "      <th>max</th>\n",
       "      <td>659.000000</td>\n",
       "      <td>5.000000</td>\n",
       "    </tr>\n",
       "  </tbody>\n",
       "</table>\n",
       "</div>"
      ],
      "text/plain": [
       "        ProductID      Stars\n",
       "count   90.000000  90.000000\n",
       "mean   534.422222   4.033333\n",
       "std     78.665267   1.275966\n",
       "min    392.000000   1.000000\n",
       "25%    513.000000   4.000000\n",
       "50%    535.000000   4.500000\n",
       "75%    559.000000   5.000000\n",
       "max    659.000000   5.000000"
      ]
     },
     "execution_count": 4,
     "metadata": {},
     "output_type": "execute_result"
    }
   ],
   "source": [
    "# View DataFrame Statistical Summary\n",
    "reviews_df.describe()"
   ]
  },
  {
   "cell_type": "code",
   "execution_count": 5,
   "id": "335c9bdb",
   "metadata": {
    "papermill": {
     "duration": 0.0947,
     "end_time": "2022-05-11T15:41:32.369706",
     "exception": false,
     "start_time": "2022-05-11T15:41:32.275006",
     "status": "completed"
    },
    "tags": []
   },
   "outputs": [
    {
     "data": {
      "text/plain": [
       "Index(['ProductID', 'Product', 'Stars', 'Title', 'Review'], dtype='object')"
      ]
     },
     "execution_count": 5,
     "metadata": {},
     "output_type": "execute_result"
    }
   ],
   "source": [
    "reviews_df.columns"
   ]
  },
  {
   "cell_type": "markdown",
   "id": "b338336d",
   "metadata": {
    "id": "LlszUhNNyrl_",
    "papermill": {
     "duration": 0.087015,
     "end_time": "2022-05-11T15:41:33.091596",
     "exception": false,
     "start_time": "2022-05-11T15:41:33.004581",
     "status": "completed"
    },
    "tags": []
   },
   "source": [
    "# TASK #3: PERFORM DATA VISUALIZATION"
   ]
  },
  {
   "cell_type": "code",
   "execution_count": 6,
   "id": "ac9d98e0",
   "metadata": {
    "papermill": {
     "duration": 0.109141,
     "end_time": "2022-05-11T15:41:33.287817",
     "exception": false,
     "start_time": "2022-05-11T15:41:33.178676",
     "status": "completed"
    },
    "tags": []
   },
   "outputs": [
    {
     "data": {
      "text/html": [
       "<div>\n",
       "<style scoped>\n",
       "    .dataframe tbody tr th:only-of-type {\n",
       "        vertical-align: middle;\n",
       "    }\n",
       "\n",
       "    .dataframe tbody tr th {\n",
       "        vertical-align: top;\n",
       "    }\n",
       "\n",
       "    .dataframe thead th {\n",
       "        text-align: right;\n",
       "    }\n",
       "</style>\n",
       "<table border=\"1\" class=\"dataframe\">\n",
       "  <thead>\n",
       "    <tr style=\"text-align: right;\">\n",
       "      <th></th>\n",
       "      <th>ProductID</th>\n",
       "      <th>Product</th>\n",
       "      <th>Stars</th>\n",
       "      <th>Title</th>\n",
       "      <th>Review</th>\n",
       "    </tr>\n",
       "  </thead>\n",
       "  <tbody>\n",
       "    <tr>\n",
       "      <th>0</th>\n",
       "      <td>False</td>\n",
       "      <td>False</td>\n",
       "      <td>False</td>\n",
       "      <td>False</td>\n",
       "      <td>False</td>\n",
       "    </tr>\n",
       "    <tr>\n",
       "      <th>1</th>\n",
       "      <td>False</td>\n",
       "      <td>False</td>\n",
       "      <td>False</td>\n",
       "      <td>False</td>\n",
       "      <td>False</td>\n",
       "    </tr>\n",
       "    <tr>\n",
       "      <th>2</th>\n",
       "      <td>False</td>\n",
       "      <td>False</td>\n",
       "      <td>False</td>\n",
       "      <td>False</td>\n",
       "      <td>False</td>\n",
       "    </tr>\n",
       "    <tr>\n",
       "      <th>3</th>\n",
       "      <td>False</td>\n",
       "      <td>False</td>\n",
       "      <td>False</td>\n",
       "      <td>False</td>\n",
       "      <td>False</td>\n",
       "    </tr>\n",
       "    <tr>\n",
       "      <th>4</th>\n",
       "      <td>False</td>\n",
       "      <td>False</td>\n",
       "      <td>False</td>\n",
       "      <td>False</td>\n",
       "      <td>False</td>\n",
       "    </tr>\n",
       "    <tr>\n",
       "      <th>...</th>\n",
       "      <td>...</td>\n",
       "      <td>...</td>\n",
       "      <td>...</td>\n",
       "      <td>...</td>\n",
       "      <td>...</td>\n",
       "    </tr>\n",
       "    <tr>\n",
       "      <th>85</th>\n",
       "      <td>False</td>\n",
       "      <td>False</td>\n",
       "      <td>False</td>\n",
       "      <td>False</td>\n",
       "      <td>False</td>\n",
       "    </tr>\n",
       "    <tr>\n",
       "      <th>86</th>\n",
       "      <td>False</td>\n",
       "      <td>False</td>\n",
       "      <td>False</td>\n",
       "      <td>False</td>\n",
       "      <td>False</td>\n",
       "    </tr>\n",
       "    <tr>\n",
       "      <th>87</th>\n",
       "      <td>False</td>\n",
       "      <td>False</td>\n",
       "      <td>False</td>\n",
       "      <td>False</td>\n",
       "      <td>False</td>\n",
       "    </tr>\n",
       "    <tr>\n",
       "      <th>88</th>\n",
       "      <td>False</td>\n",
       "      <td>False</td>\n",
       "      <td>False</td>\n",
       "      <td>False</td>\n",
       "      <td>False</td>\n",
       "    </tr>\n",
       "    <tr>\n",
       "      <th>89</th>\n",
       "      <td>False</td>\n",
       "      <td>False</td>\n",
       "      <td>False</td>\n",
       "      <td>False</td>\n",
       "      <td>False</td>\n",
       "    </tr>\n",
       "  </tbody>\n",
       "</table>\n",
       "<p>90 rows × 5 columns</p>\n",
       "</div>"
      ],
      "text/plain": [
       "    ProductID  Product  Stars  Title  Review\n",
       "0       False    False  False  False   False\n",
       "1       False    False  False  False   False\n",
       "2       False    False  False  False   False\n",
       "3       False    False  False  False   False\n",
       "4       False    False  False  False   False\n",
       "..        ...      ...    ...    ...     ...\n",
       "85      False    False  False  False   False\n",
       "86      False    False  False  False   False\n",
       "87      False    False  False  False   False\n",
       "88      False    False  False  False   False\n",
       "89      False    False  False  False   False\n",
       "\n",
       "[90 rows x 5 columns]"
      ]
     },
     "execution_count": 6,
     "metadata": {},
     "output_type": "execute_result"
    }
   ],
   "source": [
    "# Ensure that there is no missing data\n",
    "reviews_df.isnull()"
   ]
  },
  {
   "cell_type": "markdown",
   "id": "cfdfebac",
   "metadata": {
    "papermill": {
     "duration": 0.085461,
     "end_time": "2022-05-11T15:41:33.462900",
     "exception": false,
     "start_time": "2022-05-11T15:41:33.377439",
     "status": "completed"
    },
    "tags": []
   },
   "source": [
    "__True__ means null value. __False__ means not null value."
   ]
  },
  {
   "cell_type": "code",
   "execution_count": 7,
   "id": "07e0fb9d",
   "metadata": {
    "id": "504hnDW71Afb",
    "outputId": "d1672649-7f4b-4ea1-8854-20014a18b4d0",
    "papermill": {
     "duration": 0.354114,
     "end_time": "2022-05-11T15:41:33.903399",
     "exception": false,
     "start_time": "2022-05-11T15:41:33.549285",
     "status": "completed"
    },
    "tags": []
   },
   "outputs": [
    {
     "data": {
      "text/plain": [
       "<AxesSubplot: >"
      ]
     },
     "execution_count": 7,
     "metadata": {},
     "output_type": "execute_result"
    },
    {
     "data": {
      "image/png": "[encoded data removed]",
      "text/plain": [
       "<Figure size 640x480 with 2 Axes>"
      ]
     },
     "metadata": {},
     "output_type": "display_data"
    }
   ],
   "source": [
    "# Visualize the missing data\n",
    "sns.heatmap(reviews_df.isnull(), yticklabels=False)"
   ]
  },
  {
   "cell_type": "markdown",
   "id": "a8fb37bc",
   "metadata": {
    "papermill": {
     "duration": 0.087207,
     "end_time": "2022-05-11T15:41:34.080016",
     "exception": false,
     "start_time": "2022-05-11T15:41:33.992809",
     "status": "completed"
    },
    "tags": []
   },
   "source": [
    "The visual above indicates there is no missing values."
   ]
  },
  {
   "cell_type": "code",
   "execution_count": 8,
   "id": "732b2aeb",
   "metadata": {
    "papermill": {
     "duration": 0.226969,
     "end_time": "2022-05-11T15:41:34.395303",
     "exception": false,
     "start_time": "2022-05-11T15:41:34.168334",
     "status": "completed"
    },
    "tags": []
   },
   "outputs": [
    {
     "data": {
      "text/plain": [
       "<AxesSubplot: xlabel='Stars', ylabel='count'>"
      ]
     },
     "execution_count": 8,
     "metadata": {},
     "output_type": "execute_result"
    },
    {
     "data": {
      "image/png": "[encoded data removed]",
      "text/plain": [
       "<Figure size 640x480 with 1 Axes>"
      ]
     },
     "metadata": {},
     "output_type": "display_data"
    }
   ],
   "source": [
    "# Plot the count plot for the ratings\n",
    "sns.countplot(x = reviews_df['Stars'])"
   ]
  },
  {
   "cell_type": "markdown",
   "id": "5853d63a",
   "metadata": {
    "papermill": {
     "duration": 0.088606,
     "end_time": "2022-05-11T15:41:34.573123",
     "exception": false,
     "start_time": "2022-05-11T15:41:34.484517",
     "status": "completed"
    },
    "tags": []
   },
   "source": [
    "Here we see that we have five unique categories in __Stars__ column.\n",
    "\n",
    "And what we got here is the count on how many rows per category.\n"
   ]
  },
  {
   "cell_type": "markdown",
   "id": "87f1f1e6",
   "metadata": {
    "papermill": {
     "duration": 0.088632,
     "end_time": "2022-05-11T15:41:34.751209",
     "exception": false,
     "start_time": "2022-05-11T15:41:34.662577",
     "status": "completed"
    },
    "tags": []
   },
   "source": [
    "- **Plot the countplot for the Product column**"
   ]
  },
  {
   "cell_type": "code",
   "execution_count": 9,
   "id": "97994802",
   "metadata": {
    "papermill": {
     "duration": 0.213107,
     "end_time": "2022-05-11T15:41:35.054467",
     "exception": false,
     "start_time": "2022-05-11T15:41:34.841360",
     "status": "completed"
    },
    "tags": []
   },
   "outputs": [
    {
     "data": {
      "text/plain": [
       "<AxesSubplot: xlabel='ProductID', ylabel='count'>"
      ]
     },
     "execution_count": 9,
     "metadata": {},
     "output_type": "execute_result"
    },
    {
     "data": {
      "image/png": "[encoded data removed]",
      "text/plain": [
       "<Figure size 640x480 with 1 Axes>"
      ]
     },
     "metadata": {},
     "output_type": "display_data"
    }
   ],
   "source": [
    "sns.countplot(x = reviews_df['ProductID'])"
   ]
  },
  {
   "cell_type": "markdown",
   "id": "0bba76c4",
   "metadata": {
    "papermill": {
     "duration": 0.09232,
     "end_time": "2022-05-11T15:41:35.423355",
     "exception": false,
     "start_time": "2022-05-11T15:41:35.331035",
     "status": "completed"
    },
    "tags": []
   },
   "source": [
    "# TASK #4: PERFORM DATA EXPLORATION"
   ]
  },
  {
   "cell_type": "code",
   "execution_count": 10,
   "id": "fe145d9a",
   "metadata": {
    "id": "ZiVkQqEPMDDD",
    "outputId": "e6c55d99-6ebd-4972-8cfe-0963147e7eb3",
    "papermill": {
     "duration": 0.104991,
     "end_time": "2022-05-11T15:41:35.619367",
     "exception": false,
     "start_time": "2022-05-11T15:41:35.514376",
     "status": "completed"
    },
    "tags": []
   },
   "outputs": [],
   "source": [
    "# Let's get the length of the Review column\n",
    "reviews_df['Length'] = reviews_df['Review'].apply(len)"
   ]
  },
  {
   "cell_type": "code",
   "execution_count": 11,
   "id": "823aed47-e1aa-46c1-a449-fef77f21be2c",
   "metadata": {},
   "outputs": [
    {
     "data": {
      "text/html": [
       "<div>\n",
       "<style scoped>\n",
       "    .dataframe tbody tr th:only-of-type {\n",
       "        vertical-align: middle;\n",
       "    }\n",
       "\n",
       "    .dataframe tbody tr th {\n",
       "        vertical-align: top;\n",
       "    }\n",
       "\n",
       "    .dataframe thead th {\n",
       "        text-align: right;\n",
       "    }\n",
       "</style>\n",
       "<table border=\"1\" class=\"dataframe\">\n",
       "  <thead>\n",
       "    <tr style=\"text-align: right;\">\n",
       "      <th></th>\n",
       "      <th>ProductID</th>\n",
       "      <th>Product</th>\n",
       "      <th>Stars</th>\n",
       "      <th>Title</th>\n",
       "      <th>Review</th>\n",
       "      <th>Length</th>\n",
       "    </tr>\n",
       "  </thead>\n",
       "  <tbody>\n",
       "    <tr>\n",
       "      <th>0</th>\n",
       "      <td>392</td>\n",
       "      <td>Maximus RP-01</td>\n",
       "      <td>5</td>\n",
       "      <td>Great ride!</td>\n",
       "      <td>Just bought this bike. Tested it out for and h...</td>\n",
       "      <td>214</td>\n",
       "    </tr>\n",
       "    <tr>\n",
       "      <th>1</th>\n",
       "      <td>392</td>\n",
       "      <td>Maximus RP-01</td>\n",
       "      <td>5</td>\n",
       "      <td>Best light weight commuter road bike under 21 lbs</td>\n",
       "      <td>I searched for a while for a road bike that wa...</td>\n",
       "      <td>464</td>\n",
       "    </tr>\n",
       "    <tr>\n",
       "      <th>2</th>\n",
       "      <td>392</td>\n",
       "      <td>Maximus RP-01</td>\n",
       "      <td>5</td>\n",
       "      <td>great bike for the city and more</td>\n",
       "      <td>This is my first route bike so it may not be t...</td>\n",
       "      <td>244</td>\n",
       "    </tr>\n",
       "    <tr>\n",
       "      <th>3</th>\n",
       "      <td>394</td>\n",
       "      <td>Maximus RS-01</td>\n",
       "      <td>5</td>\n",
       "      <td>Great Bike!</td>\n",
       "      <td>Completed 60 mils on this bike, great bike. Ge...</td>\n",
       "      <td>82</td>\n",
       "    </tr>\n",
       "    <tr>\n",
       "      <th>4</th>\n",
       "      <td>405</td>\n",
       "      <td>Maximus UM-10</td>\n",
       "      <td>5</td>\n",
       "      <td>Great bike</td>\n",
       "      <td>On the flats I avg 14.5 to 16mph, small uphill...</td>\n",
       "      <td>572</td>\n",
       "    </tr>\n",
       "    <tr>\n",
       "      <th>...</th>\n",
       "      <td>...</td>\n",
       "      <td>...</td>\n",
       "      <td>...</td>\n",
       "      <td>...</td>\n",
       "      <td>...</td>\n",
       "      <td>...</td>\n",
       "    </tr>\n",
       "    <tr>\n",
       "      <th>85</th>\n",
       "      <td>647</td>\n",
       "      <td>Maximus UC-12</td>\n",
       "      <td>5</td>\n",
       "      <td>Ottima bici per lunghe distanze</td>\n",
       "      <td>Ho comprato la versione degli ultimi anni di q...</td>\n",
       "      <td>444</td>\n",
       "    </tr>\n",
       "    <tr>\n",
       "      <th>86</th>\n",
       "      <td>647</td>\n",
       "      <td>Maximus UC-12</td>\n",
       "      <td>5</td>\n",
       "      <td>Beaucoup de grandes fonctionnalités</td>\n",
       "      <td>Dans l’ensemble, je donne à ce vélo 4,5 étoile...</td>\n",
       "      <td>574</td>\n",
       "    </tr>\n",
       "    <tr>\n",
       "      <th>87</th>\n",
       "      <td>659</td>\n",
       "      <td>Maximus UC-24</td>\n",
       "      <td>5</td>\n",
       "      <td>Tough touring bike</td>\n",
       "      <td>Took this little number on it's first ride dow...</td>\n",
       "      <td>590</td>\n",
       "    </tr>\n",
       "    <tr>\n",
       "      <th>88</th>\n",
       "      <td>659</td>\n",
       "      <td>Maximus UC-24</td>\n",
       "      <td>1</td>\n",
       "      <td>Bottom bracket broke</td>\n",
       "      <td>Bought this bike for a pacific coast bike tour...</td>\n",
       "      <td>644</td>\n",
       "    </tr>\n",
       "    <tr>\n",
       "      <th>89</th>\n",
       "      <td>659</td>\n",
       "      <td>Maximus UC-24</td>\n",
       "      <td>2</td>\n",
       "      <td>No hydraulics brakes and more</td>\n",
       "      <td>No hydraulics brakes. a little under equipped ...</td>\n",
       "      <td>489</td>\n",
       "    </tr>\n",
       "  </tbody>\n",
       "</table>\n",
       "<p>90 rows × 6 columns</p>\n",
       "</div>"
      ],
      "text/plain": [
       "    ProductID        Product  Stars  \\\n",
       "0         392  Maximus RP-01      5   \n",
       "1         392  Maximus RP-01      5   \n",
       "2         392  Maximus RP-01      5   \n",
       "3         394  Maximus RS-01      5   \n",
       "4         405  Maximus UM-10      5   \n",
       "..        ...            ...    ...   \n",
       "85        647  Maximus UC-12      5   \n",
       "86        647  Maximus UC-12      5   \n",
       "87        659  Maximus UC-24      5   \n",
       "88        659  Maximus UC-24      1   \n",
       "89        659  Maximus UC-24      2   \n",
       "\n",
       "                                                Title  \\\n",
       "0                                         Great ride!   \n",
       "1   Best light weight commuter road bike under 21 lbs   \n",
       "2                    great bike for the city and more   \n",
       "3                                         Great Bike!   \n",
       "4                                          Great bike   \n",
       "..                                                ...   \n",
       "85                    Ottima bici per lunghe distanze   \n",
       "86                Beaucoup de grandes fonctionnalités   \n",
       "87                                 Tough touring bike   \n",
       "88                               Bottom bracket broke   \n",
       "89                      No hydraulics brakes and more   \n",
       "\n",
       "                                               Review  Length  \n",
       "0   Just bought this bike. Tested it out for and h...     214  \n",
       "1   I searched for a while for a road bike that wa...     464  \n",
       "2   This is my first route bike so it may not be t...     244  \n",
       "3   Completed 60 mils on this bike, great bike. Ge...      82  \n",
       "4   On the flats I avg 14.5 to 16mph, small uphill...     572  \n",
       "..                                                ...     ...  \n",
       "85  Ho comprato la versione degli ultimi anni di q...     444  \n",
       "86  Dans l’ensemble, je donne à ce vélo 4,5 étoile...     574  \n",
       "87  Took this little number on it's first ride dow...     590  \n",
       "88  Bought this bike for a pacific coast bike tour...     644  \n",
       "89  No hydraulics brakes. a little under equipped ...     489  \n",
       "\n",
       "[90 rows x 6 columns]"
      ]
     },
     "execution_count": 11,
     "metadata": {},
     "output_type": "execute_result"
    }
   ],
   "source": [
    "reviews_df"
   ]
  },
  {
   "cell_type": "code",
   "execution_count": 12,
   "id": "04b54039",
   "metadata": {
    "papermill": {
     "duration": 0.110393,
     "end_time": "2022-05-11T15:41:35.822024",
     "exception": false,
     "start_time": "2022-05-11T15:41:35.711631",
     "status": "completed"
    },
    "tags": []
   },
   "outputs": [
    {
     "data": {
      "text/html": [
       "<div>\n",
       "<style scoped>\n",
       "    .dataframe tbody tr th:only-of-type {\n",
       "        vertical-align: middle;\n",
       "    }\n",
       "\n",
       "    .dataframe tbody tr th {\n",
       "        vertical-align: top;\n",
       "    }\n",
       "\n",
       "    .dataframe thead th {\n",
       "        text-align: right;\n",
       "    }\n",
       "</style>\n",
       "<table border=\"1\" class=\"dataframe\">\n",
       "  <thead>\n",
       "    <tr style=\"text-align: right;\">\n",
       "      <th></th>\n",
       "      <th>ProductID</th>\n",
       "      <th>Product</th>\n",
       "      <th>Stars</th>\n",
       "      <th>Title</th>\n",
       "      <th>Review</th>\n",
       "      <th>Length</th>\n",
       "    </tr>\n",
       "  </thead>\n",
       "  <tbody>\n",
       "    <tr>\n",
       "      <th>35</th>\n",
       "      <td>514</td>\n",
       "      <td>Maximus UE-02</td>\n",
       "      <td>3</td>\n",
       "      <td>Good base for upgrades</td>\n",
       "      <td>Overall handling is very good and especially s...</td>\n",
       "      <td>1839</td>\n",
       "    </tr>\n",
       "    <tr>\n",
       "      <th>73</th>\n",
       "      <td>636</td>\n",
       "      <td>Maximus UC-01</td>\n",
       "      <td>3</td>\n",
       "      <td>Too slow for the road</td>\n",
       "      <td>I really wanted to like this bike, but I just ...</td>\n",
       "      <td>1754</td>\n",
       "    </tr>\n",
       "    <tr>\n",
       "      <th>51</th>\n",
       "      <td>536</td>\n",
       "      <td>Maximus UC-01</td>\n",
       "      <td>3</td>\n",
       "      <td>Too slow for the road</td>\n",
       "      <td>I really wanted to like this bike, but I just ...</td>\n",
       "      <td>1754</td>\n",
       "    </tr>\n",
       "    <tr>\n",
       "      <th>81</th>\n",
       "      <td>647</td>\n",
       "      <td>Maximus UC-12</td>\n",
       "      <td>4</td>\n",
       "      <td>A Nice Ride</td>\n",
       "      <td>This will just be my initial impression of the...</td>\n",
       "      <td>1392</td>\n",
       "    </tr>\n",
       "    <tr>\n",
       "      <th>59</th>\n",
       "      <td>547</td>\n",
       "      <td>Maximus UC-12</td>\n",
       "      <td>4</td>\n",
       "      <td>A Nice Ride</td>\n",
       "      <td>This will just be my initial impression of the...</td>\n",
       "      <td>1392</td>\n",
       "    </tr>\n",
       "    <tr>\n",
       "      <th>...</th>\n",
       "      <td>...</td>\n",
       "      <td>...</td>\n",
       "      <td>...</td>\n",
       "      <td>...</td>\n",
       "      <td>...</td>\n",
       "      <td>...</td>\n",
       "    </tr>\n",
       "    <tr>\n",
       "      <th>38</th>\n",
       "      <td>525</td>\n",
       "      <td>Maximus UE-13</td>\n",
       "      <td>3</td>\n",
       "      <td>correction on specs</td>\n",
       "      <td>Cannondale website says the shifters are 3x7 \"...</td>\n",
       "      <td>74</td>\n",
       "    </tr>\n",
       "    <tr>\n",
       "      <th>39</th>\n",
       "      <td>525</td>\n",
       "      <td>Maximus UE-13</td>\n",
       "      <td>4</td>\n",
       "      <td>Great Bike!</td>\n",
       "      <td>This bike is amazing, it's a smoth ride and re...</td>\n",
       "      <td>64</td>\n",
       "    </tr>\n",
       "    <tr>\n",
       "      <th>40</th>\n",
       "      <td>535</td>\n",
       "      <td>Maximus UE-23</td>\n",
       "      <td>4</td>\n",
       "      <td>Hidden gem</td>\n",
       "      <td>Nice bike just needs a few little tweeks to be...</td>\n",
       "      <td>58</td>\n",
       "    </tr>\n",
       "    <tr>\n",
       "      <th>74</th>\n",
       "      <td>636</td>\n",
       "      <td>Maximus UC-01</td>\n",
       "      <td>5</td>\n",
       "      <td>Lovely bike</td>\n",
       "      <td>Madly in love with this bike, using for commut...</td>\n",
       "      <td>56</td>\n",
       "    </tr>\n",
       "    <tr>\n",
       "      <th>52</th>\n",
       "      <td>536</td>\n",
       "      <td>Maximus UC-01</td>\n",
       "      <td>5</td>\n",
       "      <td>Lovely bike</td>\n",
       "      <td>Madly in love with this bike, using for commut...</td>\n",
       "      <td>56</td>\n",
       "    </tr>\n",
       "  </tbody>\n",
       "</table>\n",
       "<p>90 rows × 6 columns</p>\n",
       "</div>"
      ],
      "text/plain": [
       "    ProductID        Product  Stars                   Title  \\\n",
       "35        514  Maximus UE-02      3  Good base for upgrades   \n",
       "73        636  Maximus UC-01      3   Too slow for the road   \n",
       "51        536  Maximus UC-01      3   Too slow for the road   \n",
       "81        647  Maximus UC-12      4             A Nice Ride   \n",
       "59        547  Maximus UC-12      4             A Nice Ride   \n",
       "..        ...            ...    ...                     ...   \n",
       "38        525  Maximus UE-13      3     correction on specs   \n",
       "39        525  Maximus UE-13      4             Great Bike!   \n",
       "40        535  Maximus UE-23      4              Hidden gem   \n",
       "74        636  Maximus UC-01      5             Lovely bike   \n",
       "52        536  Maximus UC-01      5             Lovely bike   \n",
       "\n",
       "                                               Review  Length  \n",
       "35  Overall handling is very good and especially s...    1839  \n",
       "73  I really wanted to like this bike, but I just ...    1754  \n",
       "51  I really wanted to like this bike, but I just ...    1754  \n",
       "81  This will just be my initial impression of the...    1392  \n",
       "59  This will just be my initial impression of the...    1392  \n",
       "..                                                ...     ...  \n",
       "38  Cannondale website says the shifters are 3x7 \"...      74  \n",
       "39  This bike is amazing, it's a smoth ride and re...      64  \n",
       "40  Nice bike just needs a few little tweeks to be...      58  \n",
       "74  Madly in love with this bike, using for commut...      56  \n",
       "52  Madly in love with this bike, using for commut...      56  \n",
       "\n",
       "[90 rows x 6 columns]"
      ]
     },
     "execution_count": 12,
     "metadata": {},
     "output_type": "execute_result"
    }
   ],
   "source": [
    "reviews_df.sort_values(by = \"Length\", ascending = False)"
   ]
  },
  {
   "cell_type": "code",
   "execution_count": 13,
   "id": "2eff0ebb",
   "metadata": {
    "id": "RYLqq7WetK79",
    "outputId": "b7064682-90d8-47d4-ace2-86a81ac9bfe5",
    "papermill": {
     "duration": 0.511244,
     "end_time": "2022-05-11T15:41:36.426582",
     "exception": false,
     "start_time": "2022-05-11T15:41:35.915338",
     "status": "completed"
    },
    "tags": []
   },
   "outputs": [
    {
     "data": {
      "text/plain": [
       "<AxesSubplot: ylabel='Frequency'>"
      ]
     },
     "execution_count": 13,
     "metadata": {},
     "output_type": "execute_result"
    },
    {
     "data": {
      "image/png": "[encoded data removed]",
      "text/plain": [
       "<Figure size 640x480 with 1 Axes>"
      ]
     },
     "metadata": {},
     "output_type": "display_data"
    }
   ],
   "source": [
    "# Plot the histogram for the length\n",
    "reviews_df['Length'].plot(bins = 100, kind = 'hist')"
   ]
  },
  {
   "cell_type": "markdown",
   "id": "dac81765",
   "metadata": {
    "papermill": {
     "duration": 0.099637,
     "end_time": "2022-05-11T15:41:36.622207",
     "exception": false,
     "start_time": "2022-05-11T15:41:36.522570",
     "status": "completed"
    },
    "tags": []
   },
   "source": [
    "What we notice is a lot of reviews are\n",
    "actually quite short. Meaning they are like range\n",
    "between maybe zero and let's say for example,\n",
    "50.\n",
    "This essentially indicate that a lot of reviews are\n",
    "quite relatively short.\n",
    "\n",
    "\n",
    "And there is some people, some customers who maybe love\n",
    "the product so much.\n",
    "So they decided to leave a ton of review, just like a long\n",
    "review.\n",
    "Some other customers maybe they are pissed off\n",
    "and they decided to leave really bad review for quite a long\n",
    "as well.\n"
   ]
  },
  {
   "cell_type": "code",
   "execution_count": 14,
   "id": "f82e7084",
   "metadata": {
    "id": "bf22hdT0KFVs",
    "outputId": "932c9425-fbda-4c1b-9c52-0d4c53648733",
    "papermill": {
     "duration": 0.119782,
     "end_time": "2022-05-11T15:41:36.838717",
     "exception": false,
     "start_time": "2022-05-11T15:41:36.718935",
     "status": "completed"
    },
    "tags": []
   },
   "outputs": [
    {
     "data": {
      "text/html": [
       "<div>\n",
       "<style scoped>\n",
       "    .dataframe tbody tr th:only-of-type {\n",
       "        vertical-align: middle;\n",
       "    }\n",
       "\n",
       "    .dataframe tbody tr th {\n",
       "        vertical-align: top;\n",
       "    }\n",
       "\n",
       "    .dataframe thead th {\n",
       "        text-align: right;\n",
       "    }\n",
       "</style>\n",
       "<table border=\"1\" class=\"dataframe\">\n",
       "  <thead>\n",
       "    <tr style=\"text-align: right;\">\n",
       "      <th></th>\n",
       "      <th>ProductID</th>\n",
       "      <th>Stars</th>\n",
       "      <th>Length</th>\n",
       "    </tr>\n",
       "  </thead>\n",
       "  <tbody>\n",
       "    <tr>\n",
       "      <th>count</th>\n",
       "      <td>90.000000</td>\n",
       "      <td>90.000000</td>\n",
       "      <td>90.000000</td>\n",
       "    </tr>\n",
       "    <tr>\n",
       "      <th>mean</th>\n",
       "      <td>534.422222</td>\n",
       "      <td>4.033333</td>\n",
       "      <td>498.644444</td>\n",
       "    </tr>\n",
       "    <tr>\n",
       "      <th>std</th>\n",
       "      <td>78.665267</td>\n",
       "      <td>1.275966</td>\n",
       "      <td>359.489285</td>\n",
       "    </tr>\n",
       "    <tr>\n",
       "      <th>min</th>\n",
       "      <td>392.000000</td>\n",
       "      <td>1.000000</td>\n",
       "      <td>56.000000</td>\n",
       "    </tr>\n",
       "    <tr>\n",
       "      <th>25%</th>\n",
       "      <td>513.000000</td>\n",
       "      <td>4.000000</td>\n",
       "      <td>277.750000</td>\n",
       "    </tr>\n",
       "    <tr>\n",
       "      <th>50%</th>\n",
       "      <td>535.000000</td>\n",
       "      <td>4.500000</td>\n",
       "      <td>440.000000</td>\n",
       "    </tr>\n",
       "    <tr>\n",
       "      <th>75%</th>\n",
       "      <td>559.000000</td>\n",
       "      <td>5.000000</td>\n",
       "      <td>590.000000</td>\n",
       "    </tr>\n",
       "    <tr>\n",
       "      <th>max</th>\n",
       "      <td>659.000000</td>\n",
       "      <td>5.000000</td>\n",
       "      <td>1839.000000</td>\n",
       "    </tr>\n",
       "  </tbody>\n",
       "</table>\n",
       "</div>"
      ],
      "text/plain": [
       "        ProductID      Stars       Length\n",
       "count   90.000000  90.000000    90.000000\n",
       "mean   534.422222   4.033333   498.644444\n",
       "std     78.665267   1.275966   359.489285\n",
       "min    392.000000   1.000000    56.000000\n",
       "25%    513.000000   4.000000   277.750000\n",
       "50%    535.000000   4.500000   440.000000\n",
       "75%    559.000000   5.000000   590.000000\n",
       "max    659.000000   5.000000  1839.000000"
      ]
     },
     "execution_count": 14,
     "metadata": {},
     "output_type": "execute_result"
    }
   ],
   "source": [
    "# Apply the describe method to get statistical summary\n",
    "reviews_df.describe()"
   ]
  },
  {
   "cell_type": "markdown",
   "id": "eb32519c",
   "metadata": {
    "papermill": {
     "duration": 0.0937,
     "end_time": "2022-05-11T15:41:37.028138",
     "exception": false,
     "start_time": "2022-05-11T15:41:36.934438",
     "status": "completed"
    },
    "tags": []
   },
   "source": [
    "So on average, there is 498 characters in our string.\n",
    "If you want to check out the min and max the mean is\n",
    "56 and the maximum is 1839.\n",
    "So there is a customers who maybe love the product so much\n",
    "and he wrote Almost 1839 characters.\n",
    "So I'm actually curious to see what's actually going\n",
    "on in there.\n"
   ]
  },
  {
   "cell_type": "code",
   "execution_count": 15,
   "id": "c0e49d7e",
   "metadata": {
    "id": "NECH94w1KSpS",
    "outputId": "cbe89a9e-f2ee-4ef2-9e4a-00382e00aa76",
    "papermill": {
     "duration": 0.107505,
     "end_time": "2022-05-11T15:41:37.230638",
     "exception": false,
     "start_time": "2022-05-11T15:41:37.123133",
     "status": "completed"
    },
    "tags": []
   },
   "outputs": [
    {
     "data": {
      "text/html": [
       "<div>\n",
       "<style scoped>\n",
       "    .dataframe tbody tr th:only-of-type {\n",
       "        vertical-align: middle;\n",
       "    }\n",
       "\n",
       "    .dataframe tbody tr th {\n",
       "        vertical-align: top;\n",
       "    }\n",
       "\n",
       "    .dataframe thead th {\n",
       "        text-align: right;\n",
       "    }\n",
       "</style>\n",
       "<table border=\"1\" class=\"dataframe\">\n",
       "  <thead>\n",
       "    <tr style=\"text-align: right;\">\n",
       "      <th></th>\n",
       "      <th>ProductID</th>\n",
       "      <th>Product</th>\n",
       "      <th>Stars</th>\n",
       "      <th>Title</th>\n",
       "      <th>Review</th>\n",
       "      <th>Length</th>\n",
       "    </tr>\n",
       "  </thead>\n",
       "  <tbody>\n",
       "    <tr>\n",
       "      <th>35</th>\n",
       "      <td>514</td>\n",
       "      <td>Maximus UE-02</td>\n",
       "      <td>3</td>\n",
       "      <td>Good base for upgrades</td>\n",
       "      <td>Overall handling is very good and especially s...</td>\n",
       "      <td>1839</td>\n",
       "    </tr>\n",
       "  </tbody>\n",
       "</table>\n",
       "</div>"
      ],
      "text/plain": [
       "    ProductID        Product  Stars                   Title  \\\n",
       "35        514  Maximus UE-02      3  Good base for upgrades   \n",
       "\n",
       "                                               Review  Length  \n",
       "35  Overall handling is very good and especially s...    1839  "
      ]
     },
     "execution_count": 15,
     "metadata": {},
     "output_type": "execute_result"
    }
   ],
   "source": [
    "# Let's see the longest message \n",
    "reviews_df[reviews_df['Length'] == 1839.000000]"
   ]
  },
  {
   "cell_type": "code",
   "execution_count": 16,
   "id": "1de14504",
   "metadata": {
    "papermill": {
     "duration": 0.103399,
     "end_time": "2022-05-11T15:41:37.430448",
     "exception": false,
     "start_time": "2022-05-11T15:41:37.327049",
     "status": "completed"
    },
    "tags": []
   },
   "outputs": [
    {
     "data": {
      "text/plain": [
       "\"Overall handling is very good and especially shines when going downhill. Lots of climbing traction but a bit on the heavy side. Handlebar is narrower (740) than I'm used to (780) which in theory should make riding through tight trees.easier, but in practice the longer bar is easier to control anyway so it's easier to lean the bike to fit through. The gear range is quite limited with only 28 front and 11-42 in the back. The brakes would probably be the first to get upgraded. Nowhere near the 1-finger ease and strong bite of the XT brakes I have on my older bike. The rear shock's metal valve sticks out just enough where you can hit your knee or thigh on it on dismounts. I have already scratched my thigh on it on the first ride. The metal is pretty sharp and is also a problem on the 3.2 bike which is basically the same frame. My son has also cut his knee on the shock valve of his 3.2. The front fork makes a loud squishing sound on quick decompression which you will hear when lifting up the front wheel to ride over logs for example. Not really that bothersome amidst all the sounds of riding on the trail. At least the tires roll relatively quietly. The cable routing with the big hanging loop under the bottom bracket looks like it could snag on rocks or logs. Haven't been a problem so far but the cables do catch a lot of mud and dirt. This is the same frame (and tires and rear shock and seatpost and seat and handlebars) as the 3.2 bike. It has modern frame geometry that would be a good base for upgrades. If you're thinking of upgrading to better than the 3.2 spec or you just like the grey/black color better, this would be the better option. If you don't have upgrade plans, the 3.2 bike would be the better choice. I think the price difference easily justifies the much better fork, and the better gearing and brakes.\""
      ]
     },
     "execution_count": 16,
     "metadata": {},
     "output_type": "execute_result"
    }
   ],
   "source": [
    "reviews_df[reviews_df['Length'] == 1839.000000]['Review'].iloc[0]"
   ]
  },
  {
   "cell_type": "markdown",
   "id": "cd1c67ba",
   "metadata": {
    "papermill": {
     "duration": 0.094199,
     "end_time": "2022-05-11T15:41:37.619392",
     "exception": false,
     "start_time": "2022-05-11T15:41:37.525193",
     "status": "completed"
    },
    "tags": []
   },
   "source": [
    "- **View the message with the min length**"
   ]
  },
  {
   "cell_type": "code",
   "execution_count": 17,
   "id": "c2045be0",
   "metadata": {
    "papermill": {
     "duration": 0.105172,
     "end_time": "2022-05-11T15:41:37.819541",
     "exception": false,
     "start_time": "2022-05-11T15:41:37.714369",
     "status": "completed"
    },
    "tags": []
   },
   "outputs": [
    {
     "data": {
      "text/plain": [
       "'Madly in love with this bike, using for commute, so good'"
      ]
     },
     "execution_count": 17,
     "metadata": {},
     "output_type": "execute_result"
    }
   ],
   "source": [
    "reviews_df[reviews_df['Length'] == 56.000000]['Review'].iloc[0]"
   ]
  },
  {
   "cell_type": "markdown",
   "id": "e78e8c2d",
   "metadata": {
    "papermill": {
     "duration": 0.099898,
     "end_time": "2022-05-11T15:41:38.016943",
     "exception": false,
     "start_time": "2022-05-11T15:41:37.917045",
     "status": "completed"
    },
    "tags": []
   },
   "source": [
    "# TASK #5: PLOT THE WORDCLOUD"
   ]
  },
  {
   "cell_type": "code",
   "execution_count": 18,
   "id": "a17271ce-b432-4a6d-80cd-4fd3f1c27df3",
   "metadata": {},
   "outputs": [],
   "source": [
    "from textblob import TextBlob"
   ]
  },
  {
   "cell_type": "code",
   "execution_count": 19,
   "id": "74f58c61-e8a6-4e26-96c8-8d1dcf4a31a6",
   "metadata": {},
   "outputs": [],
   "source": [
    "# Function to determine sensitivity\n",
    "def get_sensitivity(review):\n",
    "    analysis = TextBlob(review)\n",
    "    if analysis.sentiment.polarity > 0:\n",
    "        return 'positive'\n",
    "    elif analysis.sentiment.polarity < 0:\n",
    "        return 'negative'\n",
    "    else:\n",
    "        return 'neutral'"
   ]
  },
  {
   "cell_type": "code",
   "execution_count": 20,
   "id": "eaa3538d-9f7b-42f2-ab43-77f51c81e943",
   "metadata": {},
   "outputs": [
    {
     "name": "stdout",
     "output_type": "stream",
     "text": [
      "    ProductID        Product  Stars  \\\n",
      "0         392  Maximus RP-01      5   \n",
      "1         392  Maximus RP-01      5   \n",
      "2         392  Maximus RP-01      5   \n",
      "3         394  Maximus RS-01      5   \n",
      "4         405  Maximus UM-10      5   \n",
      "..        ...            ...    ...   \n",
      "85        647  Maximus UC-12      5   \n",
      "86        647  Maximus UC-12      5   \n",
      "87        659  Maximus UC-24      5   \n",
      "88        659  Maximus UC-24      1   \n",
      "89        659  Maximus UC-24      2   \n",
      "\n",
      "                                                Title  \\\n",
      "0                                         Great ride!   \n",
      "1   Best light weight commuter road bike under 21 lbs   \n",
      "2                    great bike for the city and more   \n",
      "3                                         Great Bike!   \n",
      "4                                          Great bike   \n",
      "..                                                ...   \n",
      "85                    Ottima bici per lunghe distanze   \n",
      "86                Beaucoup de grandes fonctionnalités   \n",
      "87                                 Tough touring bike   \n",
      "88                               Bottom bracket broke   \n",
      "89                      No hydraulics brakes and more   \n",
      "\n",
      "                                               Review  Length Sensitivity  \n",
      "0   Just bought this bike. Tested it out for and h...     214    positive  \n",
      "1   I searched for a while for a road bike that wa...     464    positive  \n",
      "2   This is my first route bike so it may not be t...     244    positive  \n",
      "3   Completed 60 mils on this bike, great bike. Ge...      82    positive  \n",
      "4   On the flats I avg 14.5 to 16mph, small uphill...     572    positive  \n",
      "..                                                ...     ...         ...  \n",
      "85  Ho comprato la versione degli ultimi anni di q...     444     neutral  \n",
      "86  Dans l’ensemble, je donne à ce vélo 4,5 étoile...     574     neutral  \n",
      "87  Took this little number on it's first ride dow...     590    positive  \n",
      "88  Bought this bike for a pacific coast bike tour...     644    negative  \n",
      "89  No hydraulics brakes. a little under equipped ...     489    positive  \n",
      "\n",
      "[90 rows x 7 columns]\n"
     ]
    }
   ],
   "source": [
    "# Add a new column 'sensitivity' to the DataFrame\n",
    "reviews_df['Sensitivity'] = reviews_df['Review'].apply(get_sensitivity)\n",
    "\n",
    "# Print the updated DataFrame\n",
    "print(reviews_df)"
   ]
  },
  {
   "cell_type": "code",
   "execution_count": 23,
   "id": "fe83cd26",
   "metadata": {
    "id": "5d38HsgdA3LA",
    "papermill": {
     "duration": 0.116383,
     "end_time": "2022-05-11T15:41:38.237717",
     "exception": false,
     "start_time": "2022-05-11T15:41:38.121334",
     "status": "completed"
    },
    "tags": []
   },
   "outputs": [],
   "source": [
    "# Obtain only the positive reviews\n",
    "positive = reviews_df[reviews_df['Sensitivity'] == 'positive']"
   ]
  },
  {
   "cell_type": "code",
   "execution_count": 24,
   "id": "13390ec9",
   "metadata": {
    "id": "wufaGhOxuzpP",
    "outputId": "53f6c925-3a86-4608-b933-940bf72d9f4e",
    "papermill": {
     "duration": 0.112505,
     "end_time": "2022-05-11T15:41:38.446795",
     "exception": false,
     "start_time": "2022-05-11T15:41:38.334290",
     "status": "completed"
    },
    "tags": []
   },
   "outputs": [
    {
     "data": {
      "text/html": [
       "<div>\n",
       "<style scoped>\n",
       "    .dataframe tbody tr th:only-of-type {\n",
       "        vertical-align: middle;\n",
       "    }\n",
       "\n",
       "    .dataframe tbody tr th {\n",
       "        vertical-align: top;\n",
       "    }\n",
       "\n",
       "    .dataframe thead th {\n",
       "        text-align: right;\n",
       "    }\n",
       "</style>\n",
       "<table border=\"1\" class=\"dataframe\">\n",
       "  <thead>\n",
       "    <tr style=\"text-align: right;\">\n",
       "      <th></th>\n",
       "      <th>ProductID</th>\n",
       "      <th>Product</th>\n",
       "      <th>Stars</th>\n",
       "      <th>Title</th>\n",
       "      <th>Review</th>\n",
       "      <th>Length</th>\n",
       "      <th>Sensitivity</th>\n",
       "    </tr>\n",
       "  </thead>\n",
       "  <tbody>\n",
       "    <tr>\n",
       "      <th>0</th>\n",
       "      <td>392</td>\n",
       "      <td>Maximus RP-01</td>\n",
       "      <td>5</td>\n",
       "      <td>Great ride!</td>\n",
       "      <td>Just bought this bike. Tested it out for and h...</td>\n",
       "      <td>214</td>\n",
       "      <td>positive</td>\n",
       "    </tr>\n",
       "    <tr>\n",
       "      <th>1</th>\n",
       "      <td>392</td>\n",
       "      <td>Maximus RP-01</td>\n",
       "      <td>5</td>\n",
       "      <td>Best light weight commuter road bike under 21 lbs</td>\n",
       "      <td>I searched for a while for a road bike that wa...</td>\n",
       "      <td>464</td>\n",
       "      <td>positive</td>\n",
       "    </tr>\n",
       "    <tr>\n",
       "      <th>2</th>\n",
       "      <td>392</td>\n",
       "      <td>Maximus RP-01</td>\n",
       "      <td>5</td>\n",
       "      <td>great bike for the city and more</td>\n",
       "      <td>This is my first route bike so it may not be t...</td>\n",
       "      <td>244</td>\n",
       "      <td>positive</td>\n",
       "    </tr>\n",
       "    <tr>\n",
       "      <th>3</th>\n",
       "      <td>394</td>\n",
       "      <td>Maximus RS-01</td>\n",
       "      <td>5</td>\n",
       "      <td>Great Bike!</td>\n",
       "      <td>Completed 60 mils on this bike, great bike. Ge...</td>\n",
       "      <td>82</td>\n",
       "      <td>positive</td>\n",
       "    </tr>\n",
       "    <tr>\n",
       "      <th>4</th>\n",
       "      <td>405</td>\n",
       "      <td>Maximus UM-10</td>\n",
       "      <td>5</td>\n",
       "      <td>Great bike</td>\n",
       "      <td>On the flats I avg 14.5 to 16mph, small uphill...</td>\n",
       "      <td>572</td>\n",
       "      <td>positive</td>\n",
       "    </tr>\n",
       "    <tr>\n",
       "      <th>...</th>\n",
       "      <td>...</td>\n",
       "      <td>...</td>\n",
       "      <td>...</td>\n",
       "      <td>...</td>\n",
       "      <td>...</td>\n",
       "      <td>...</td>\n",
       "      <td>...</td>\n",
       "    </tr>\n",
       "    <tr>\n",
       "      <th>82</th>\n",
       "      <td>647</td>\n",
       "      <td>Maximus UC-12</td>\n",
       "      <td>4</td>\n",
       "      <td>Smooth ride</td>\n",
       "      <td>1 week in and I'm so far liking this bike very...</td>\n",
       "      <td>457</td>\n",
       "      <td>positive</td>\n",
       "    </tr>\n",
       "    <tr>\n",
       "      <th>83</th>\n",
       "      <td>647</td>\n",
       "      <td>Maximus UC-12</td>\n",
       "      <td>3</td>\n",
       "      <td>Initial thoughts</td>\n",
       "      <td>I picked the bike up last night and noticed a ...</td>\n",
       "      <td>434</td>\n",
       "      <td>positive</td>\n",
       "    </tr>\n",
       "    <tr>\n",
       "      <th>84</th>\n",
       "      <td>647</td>\n",
       "      <td>Maximus UC-12</td>\n",
       "      <td>4</td>\n",
       "      <td>Corsa personalizzata</td>\n",
       "      <td>Volevo una buona, robusta moto da turismo come...</td>\n",
       "      <td>342</td>\n",
       "      <td>positive</td>\n",
       "    </tr>\n",
       "    <tr>\n",
       "      <th>87</th>\n",
       "      <td>659</td>\n",
       "      <td>Maximus UC-24</td>\n",
       "      <td>5</td>\n",
       "      <td>Tough touring bike</td>\n",
       "      <td>Took this little number on it's first ride dow...</td>\n",
       "      <td>590</td>\n",
       "      <td>positive</td>\n",
       "    </tr>\n",
       "    <tr>\n",
       "      <th>89</th>\n",
       "      <td>659</td>\n",
       "      <td>Maximus UC-24</td>\n",
       "      <td>2</td>\n",
       "      <td>No hydraulics brakes and more</td>\n",
       "      <td>No hydraulics brakes. a little under equipped ...</td>\n",
       "      <td>489</td>\n",
       "      <td>positive</td>\n",
       "    </tr>\n",
       "  </tbody>\n",
       "</table>\n",
       "<p>68 rows × 7 columns</p>\n",
       "</div>"
      ],
      "text/plain": [
       "    ProductID        Product  Stars  \\\n",
       "0         392  Maximus RP-01      5   \n",
       "1         392  Maximus RP-01      5   \n",
       "2         392  Maximus RP-01      5   \n",
       "3         394  Maximus RS-01      5   \n",
       "4         405  Maximus UM-10      5   \n",
       "..        ...            ...    ...   \n",
       "82        647  Maximus UC-12      4   \n",
       "83        647  Maximus UC-12      3   \n",
       "84        647  Maximus UC-12      4   \n",
       "87        659  Maximus UC-24      5   \n",
       "89        659  Maximus UC-24      2   \n",
       "\n",
       "                                                Title  \\\n",
       "0                                         Great ride!   \n",
       "1   Best light weight commuter road bike under 21 lbs   \n",
       "2                    great bike for the city and more   \n",
       "3                                         Great Bike!   \n",
       "4                                          Great bike   \n",
       "..                                                ...   \n",
       "82                                        Smooth ride   \n",
       "83                                   Initial thoughts   \n",
       "84                               Corsa personalizzata   \n",
       "87                                 Tough touring bike   \n",
       "89                      No hydraulics brakes and more   \n",
       "\n",
       "                                               Review  Length Sensitivity  \n",
       "0   Just bought this bike. Tested it out for and h...     214    positive  \n",
       "1   I searched for a while for a road bike that wa...     464    positive  \n",
       "2   This is my first route bike so it may not be t...     244    positive  \n",
       "3   Completed 60 mils on this bike, great bike. Ge...      82    positive  \n",
       "4   On the flats I avg 14.5 to 16mph, small uphill...     572    positive  \n",
       "..                                                ...     ...         ...  \n",
       "82  1 week in and I'm so far liking this bike very...     457    positive  \n",
       "83  I picked the bike up last night and noticed a ...     434    positive  \n",
       "84  Volevo una buona, robusta moto da turismo come...     342    positive  \n",
       "87  Took this little number on it's first ride dow...     590    positive  \n",
       "89  No hydraulics brakes. a little under equipped ...     489    positive  \n",
       "\n",
       "[68 rows x 7 columns]"
      ]
     },
     "execution_count": 24,
     "metadata": {},
     "output_type": "execute_result"
    }
   ],
   "source": [
    "positive"
   ]
  },
  {
   "cell_type": "code",
   "execution_count": 27,
   "id": "53f25a58",
   "metadata": {
    "id": "cv3wJuaEBNaX",
    "papermill": {
     "duration": 0.10477,
     "end_time": "2022-05-11T15:41:38.647562",
     "exception": false,
     "start_time": "2022-05-11T15:41:38.542792",
     "status": "completed"
    },
    "tags": []
   },
   "outputs": [],
   "source": [
    "# Obtain the negative reviews only\n",
    "negative = reviews_df[reviews_df['Sensitivity'] == 'negative']"
   ]
  },
  {
   "cell_type": "code",
   "execution_count": 28,
   "id": "7eb5b5f6",
   "metadata": {
    "id": "tQVHiaOUBSZB",
    "outputId": "2aed3344-4bd7-4f45-c7e8-57a7ba9a141c",
    "papermill": {
     "duration": 0.115211,
     "end_time": "2022-05-11T15:41:38.860377",
     "exception": false,
     "start_time": "2022-05-11T15:41:38.745166",
     "status": "completed"
    },
    "tags": []
   },
   "outputs": [
    {
     "data": {
      "text/html": [
       "<div>\n",
       "<style scoped>\n",
       "    .dataframe tbody tr th:only-of-type {\n",
       "        vertical-align: middle;\n",
       "    }\n",
       "\n",
       "    .dataframe tbody tr th {\n",
       "        vertical-align: top;\n",
       "    }\n",
       "\n",
       "    .dataframe thead th {\n",
       "        text-align: right;\n",
       "    }\n",
       "</style>\n",
       "<table border=\"1\" class=\"dataframe\">\n",
       "  <thead>\n",
       "    <tr style=\"text-align: right;\">\n",
       "      <th></th>\n",
       "      <th>ProductID</th>\n",
       "      <th>Product</th>\n",
       "      <th>Stars</th>\n",
       "      <th>Title</th>\n",
       "      <th>Review</th>\n",
       "      <th>Length</th>\n",
       "      <th>Sensitivity</th>\n",
       "    </tr>\n",
       "  </thead>\n",
       "  <tbody>\n",
       "    <tr>\n",
       "      <th>29</th>\n",
       "      <td>513</td>\n",
       "      <td>Maximus UE-01</td>\n",
       "      <td>3</td>\n",
       "      <td>Buena bicicleta, pero sólo para principiantes</td>\n",
       "      <td>Calificé esto como \"promedio\"-- y eso es exact...</td>\n",
       "      <td>952</td>\n",
       "      <td>negative</td>\n",
       "    </tr>\n",
       "    <tr>\n",
       "      <th>42</th>\n",
       "      <td>535</td>\n",
       "      <td>Maximus UE-23</td>\n",
       "      <td>5</td>\n",
       "      <td>Great trail bike</td>\n",
       "      <td>Shaved minutes off usual loops, sold 29er and ...</td>\n",
       "      <td>135</td>\n",
       "      <td>negative</td>\n",
       "    </tr>\n",
       "    <tr>\n",
       "      <th>49</th>\n",
       "      <td>536</td>\n",
       "      <td>Maximus UC-01</td>\n",
       "      <td>1</td>\n",
       "      <td>Not usable for touring due to wheels.</td>\n",
       "      <td>I bought the bike about a month ago for my 600...</td>\n",
       "      <td>818</td>\n",
       "      <td>negative</td>\n",
       "    </tr>\n",
       "    <tr>\n",
       "      <th>50</th>\n",
       "      <td>536</td>\n",
       "      <td>Maximus UC-01</td>\n",
       "      <td>1</td>\n",
       "      <td>Spend more money on a better bike</td>\n",
       "      <td>Do not buy this bike... I use it as a commuter...</td>\n",
       "      <td>330</td>\n",
       "      <td>negative</td>\n",
       "    </tr>\n",
       "    <tr>\n",
       "      <th>66</th>\n",
       "      <td>559</td>\n",
       "      <td>Maximus UC-24</td>\n",
       "      <td>1</td>\n",
       "      <td>Bottom bracket broke</td>\n",
       "      <td>Bought this bike for a pacific coast bike tour...</td>\n",
       "      <td>644</td>\n",
       "      <td>negative</td>\n",
       "    </tr>\n",
       "    <tr>\n",
       "      <th>71</th>\n",
       "      <td>636</td>\n",
       "      <td>Maximus UC-01</td>\n",
       "      <td>1</td>\n",
       "      <td>Not usable for touring due to wheels.</td>\n",
       "      <td>I bought the bike about a month ago for my 600...</td>\n",
       "      <td>818</td>\n",
       "      <td>negative</td>\n",
       "    </tr>\n",
       "    <tr>\n",
       "      <th>72</th>\n",
       "      <td>636</td>\n",
       "      <td>Maximus UC-01</td>\n",
       "      <td>1</td>\n",
       "      <td>Spend more money on a better bike</td>\n",
       "      <td>Do not buy this bike... I use it as a commuter...</td>\n",
       "      <td>330</td>\n",
       "      <td>negative</td>\n",
       "    </tr>\n",
       "    <tr>\n",
       "      <th>88</th>\n",
       "      <td>659</td>\n",
       "      <td>Maximus UC-24</td>\n",
       "      <td>1</td>\n",
       "      <td>Bottom bracket broke</td>\n",
       "      <td>Bought this bike for a pacific coast bike tour...</td>\n",
       "      <td>644</td>\n",
       "      <td>negative</td>\n",
       "    </tr>\n",
       "  </tbody>\n",
       "</table>\n",
       "</div>"
      ],
      "text/plain": [
       "    ProductID        Product  Stars  \\\n",
       "29        513  Maximus UE-01      3   \n",
       "42        535  Maximus UE-23      5   \n",
       "49        536  Maximus UC-01      1   \n",
       "50        536  Maximus UC-01      1   \n",
       "66        559  Maximus UC-24      1   \n",
       "71        636  Maximus UC-01      1   \n",
       "72        636  Maximus UC-01      1   \n",
       "88        659  Maximus UC-24      1   \n",
       "\n",
       "                                            Title  \\\n",
       "29  Buena bicicleta, pero sólo para principiantes   \n",
       "42                               Great trail bike   \n",
       "49          Not usable for touring due to wheels.   \n",
       "50              Spend more money on a better bike   \n",
       "66                           Bottom bracket broke   \n",
       "71          Not usable for touring due to wheels.   \n",
       "72              Spend more money on a better bike   \n",
       "88                           Bottom bracket broke   \n",
       "\n",
       "                                               Review  Length Sensitivity  \n",
       "29  Calificé esto como \"promedio\"-- y eso es exact...     952    negative  \n",
       "42  Shaved minutes off usual loops, sold 29er and ...     135    negative  \n",
       "49  I bought the bike about a month ago for my 600...     818    negative  \n",
       "50  Do not buy this bike... I use it as a commuter...     330    negative  \n",
       "66  Bought this bike for a pacific coast bike tour...     644    negative  \n",
       "71  I bought the bike about a month ago for my 600...     818    negative  \n",
       "72  Do not buy this bike... I use it as a commuter...     330    negative  \n",
       "88  Bought this bike for a pacific coast bike tour...     644    negative  "
      ]
     },
     "execution_count": 28,
     "metadata": {},
     "output_type": "execute_result"
    }
   ],
   "source": [
    "negative"
   ]
  },
  {
   "cell_type": "code",
   "execution_count": 29,
   "id": "521d16d1",
   "metadata": {
    "id": "gPBOCIbxCCKE",
    "outputId": "866eeb10-a6e9-4573-a813-55e3b0beae40",
    "papermill": {
     "duration": 0.1072,
     "end_time": "2022-05-11T15:41:39.066483",
     "exception": false,
     "start_time": "2022-05-11T15:41:38.959283",
     "status": "completed"
    },
    "tags": []
   },
   "outputs": [
    {
     "data": {
      "text/plain": [
       "68"
      ]
     },
     "execution_count": 29,
     "metadata": {},
     "output_type": "execute_result"
    }
   ],
   "source": [
    "# Convert to list format\n",
    "positive_sentences = positive['Review'].tolist()\n",
    "len(positive_sentences)"
   ]
  },
  {
   "cell_type": "code",
   "execution_count": 30,
   "id": "227c3f5f",
   "metadata": {
    "id": "4V3vfaX9Cbgr",
    "papermill": {
     "duration": 0.107464,
     "end_time": "2022-05-11T15:41:39.273229",
     "exception": false,
     "start_time": "2022-05-11T15:41:39.165765",
     "status": "completed"
    },
    "tags": []
   },
   "outputs": [],
   "source": [
    "# Join all reviews into one large string\n",
    "postive_sentences_as_one_string = ' '.join(positive_sentences)"
   ]
  },
  {
   "cell_type": "code",
   "execution_count": 31,
   "id": "7c32a469",
   "metadata": {
    "id": "YjHQTPniCdmO",
    "outputId": "8921b977-399c-4c60-cd10-3d2ed50c3167",
    "papermill": {
     "duration": 0.153305,
     "end_time": "2022-05-11T15:41:39.525724",
     "exception": false,
     "start_time": "2022-05-11T15:41:39.372419",
     "status": "completed"
    },
    "scrolled": true,
    "tags": []
   },
   "outputs": [
    {
     "data": {
      "text/plain": [
       "'Just bought this bike. Tested it out for and hour before purchase and then a short 16 mile ride once home. Handled excellent!! Smooth ride and quick. A good distance ride planned for tomorrow. Totally recommended!! I searched for a while for a road bike that was around 20 lbs, with rack and fender mounts, disc brakes, Shimano 105s, 30cm or wider road tires, under $1,500. This is it! Great ride, reputable Cannondale name & build, fantastic ~$1,100 November prior-season price tag, and free rack and fender install with the purchase. This bike is the perfect commuter bike for someone who pushes it hard on long commutes in varying weather and bags full of clothing and laptop. This is my first route bike so it may not be the best review. All I can say is that it’s a very comfortable bike for the city and other roads. The shifts and breaks are awesome and overall feeling is quite good. I would definitely recommend it! Completed 60 mils on this bike, great bike. Gear shifting is smooth and good pace. On the flats I avg 14.5 to 16mph, small uphill intervals I push up to 20mph. I don\\'t need to go 35mph down hill anymore so I don\\'t need big front chain rings. My Knee\\'s need that 36 rear cog, would love it even more if it were 40-24 or even 40-22 front chain rings, Or put on an 11spd 11-40 rear cassette. May have bought the option if available in 700c x 35 to 40mm tire. I feel more comfortable hitting speed bumps at 20+mph downhill with 650b x 50mm. Would have loved 10spd brake/shifter, but after 400 mi I am comfortable with the bar end shifters. I love this bike!!! I picked up this bicycle after my bike packing trip this fall through WV. I rode my rigid carbon hardtail for the trip and it was great but the lack of mounts left me looking for a secondary bicycle. The sale price Of this bicycle Made this purchase a no brainer. The mix of components, precision of the bar end shifters and the weight make is fun on the road, loaded up with Relevate Bags or riding single track. I picked a large frame as I’m 5’10” with a 32in inseam and it was a bit more upright and tight when in a saddle for my preference. Putting a Thompson setback seatpost fixed that minor issue. It’s perfect now. I was looking to buy a Kona Sutra LTD or Specialized gravel bike but for the money the ADV 3.2 was the way to go. I toured with this bike using full packs in the Kootenai Lake region of British Columbia, and have ridden it extensively for bike commuting purposes. For the price point, I think it\\'s a great value. It has taken quite a pounding over gravel road tours, and no mechanical issues. The steel frame handles weight well, and offers shock absorbency on long rides. I did swap out the tires for Schwalbe Marathons, which are heavier - but I\\'ve never had a flat on them and they hold pressure extremely well. I\\'ve owned this bike less than a week. I was searching for a decent gravel bike and had narrowed my choices to this bike and a Surly Midnight Special. I took this bike for a test ride at the Denver Flagship store and didn\\'t bother to test ride the Surly (which REI doesn\\'t carry). This bike was $500 cheaper and had default gearing more suited to my 62 year old knees. I\\'m planning to climb some hills (I\\'m working up to climbing Lookout Mountain west of Denver) and so far have had no issues with the bike. It rides as smoothly as my previous ride, a Jamis Coda Comp with 700c x 28mm tires. This bike with it\\'s 650b x 50mm tires absorbs the bumps of pavement and gravel and dare I say, seems to ride just as smoothly on pavement as my old Jamis. Well done, REI designers! Everything you could want in a do-it-all bike. Shifters were easy to get used to. Switched to WTB Horizon tires since I\\'m on the road more often than I\\'m not. The shifters and drive train is a real touring set up, it\\'s at the same level of yoga, surly, salsa and many other brands in the touring category Bought this bike 2 weeks ago and have put 340 miles (dirt, non-technical single track) on it. Very comfortable and stabile, both climbing and descending. Will be taking it bikepacking soon. Have 6,600 miles on the CO-OP ARD 1.4 (dirt and asphalt) and very happy with it. Although it\\'s 6 lbs heavier than the ARD it doesn\\'t feel much more sluggish. I loved everything about the bike except the gear shifters. Riding around town, especial in NYC, was a accident waiting to happen. Always reaching down to change gears and not having your hands on the break made me rethink the bike. Those shifts are OK, if you grew up using them, but me no, not my type. Mi è piaciuto tutto della moto tranne i cambi di marcia. Andare in giro per la città, speciale a New York, è stato un incidente in attesa di accadere. Sempre raggiungere il basso per cambiare marcia e non avere le mani sulla pausa mi ha fatto ripensare la moto. Quei turni sono OK, se sei cresciuto usandoli, ma io no, non il mio tipo. J’adore ce vélo. J’ai monté des vélos pour les 3 dernières années, mais j’ai utilisé un Ebike pour le dernier petit moment. J’en avais marre d’être attaché à une batterie lourde, mais j’avais peur de rater la vitesse pour revenir à un vélo ordinaire. Cette Salsa ne laisse rien à désirer. Il est rapide, lisse, agile, et semble pare-balles. J’ai pris sur un tour de 25 micro la première nuit et est tombé en amour. Un accident de rivière sans rapport m’a laissé avec un ACL déchiré, donc j’ai été hors service après la chirurgie pour la dernière semaine ou deux. Mais une fois que je serai de nouveau en bonne santé, je monterai ma salsa. Ma femme et moi prévoyons un voyage d’emballage de vélo pour une fois que je suis à 100%. Ce vélo sera parfait pour elle. I had tried Quick 7 ,Quick 5 and now the Quick 3 . This bike is the best among all three. Light ,good stopping power and fast on speed. Near perfect to me . Love my Cannondale Women\\'s Synapse AL Disc Tiagra bike! Makes me want to ride even in the hot temperatures here. Get compliments on it from different people nearly every time. On the flats I avg 14.5 to 16mph, small uphill intervals I push up to 20mph. I don\\'t need to go 35mph down hill anymore so I don\\'t need big front chain rings. My Knee\\'s need that 36 rear cog, would love it even more if it were 40-24 or even 40-22 front chain rings, Or put on an 11spd 11-40 rear cassette. May have bought the option if available in 700c x 35 to 40mm tire. I feel more comfortable hitting speed bumps at 20+mph downhill with 650b x 50mm. Would have loved 10spd brake/shifter, but after 400 mi I am comfortable with the bar end shifters. I love this bike!!! I picked up this bicycle after my bike packing trip this fall through WV. I rode my rigid carbon hardtail for the trip and it was great but the lack of mounts left me looking for a secondary bicycle. The sale price Of this bicycle Made this purchase a no brainer. The mix of components, precision of the bar end shifters and the weight make is fun on the road, loaded up with Relevate Bags or riding single track. I picked a large frame as I’m 5’10” with a 32in inseam and it was a bit more upright and tight when in a saddle for my preference. Putting a Thompson setback seatpost fixed that minor issue. It’s perfect now. I was looking to buy a Kona Sutra LTD or Specialized gravel bike but for the money the ADV 3.2 was the way to go. I toured with this bike using full packs in the Kootenai Lake region of British Columbia, and have ridden it extensively for bike commuting purposes. For the price point, I think it\\'s a great value. It has taken quite a pounding over gravel road tours, and no mechanical issues. The steel frame handles weight well, and offers shock absorbency on long rides. I did swap out the tires for Schwalbe Marathons, which are heavier - but I\\'ve never had a flat on them and they hold pressure extremely well. I\\'ve owned this bike less than a week. I was searching for a decent gravel bike and had narrowed my choices to this bike and a Surly Midnight Special. I took this bike for a test ride at the Denver Flagship store and didn\\'t bother to test ride the Surly (which REI doesn\\'t carry). This bike was $500 cheaper and had default gearing more suited to my 62 year old knees. I\\'m planning to climb some hills (I\\'m working up to climbing Lookout Mountain west of Denver) and so far have had no issues with the bike. It rides as smoothly as my previous ride, a Jamis Coda Comp with 700c x 28mm tires. This bike with it\\'s 650b x 50mm tires absorbs the bumps of pavement and gravel and dare I say, seems to ride just as smoothly on pavement as my old Jamis. Well done, REI designers! Just purchased this bike. It’s my first full suspension. Feels very comfortable, it’s fun, and definitely increased my confidence. For the price it has more than a lot of other FS out there. However, I have only gone on two rides with this bike and I experienced the same issue. The SRAM Eagle SX derailleur keeps failing. I think they could have provided an upgraded component. Maybe a GX? I noticed that the 2019 game with a Shimano derailleur, and everyone seems to like that bike. Anyways, I took the bike back to my local REI and they fixed it the first time, tightened everything up, but still failed the next day in the middle of the trail. The guys at my local REI are awesome and are replacing it with a SRAM NX. Hopefully this works better. Kinda bummed I have to wait about a week for the part to arrive, so I haven’t got much time to enjoy the bike. I bought this bike as I was just getting into single track trail riding this summer for the first time and I am so happy this is the one I chose. The bike has fantastic brakes and suspension. The gears shift effortlessly. Even the tires that came with were an added bonus. I feel like I have so much control with this bike. Highly recommended! Prior to purchasing this bike, my son purchased this same bike in a men\\'s extra large, for himself. The women\\'s version of his bike was later purchased for my son\\'s fiancee. She has now become an avid mountain biker! My son and his fiancee went to REI shortly after my son purchased his bike, to get the women\\'s version of his bike for his fiancee. Together with my son, my two daughters, my grandson, and my son-in-law, my son\\'s fiancee has now become an avid mountain biker and loves her bike! This bike is very fun to ride. Shifts and brakes very smoothly. Wide range of gears made for almost effortless peddling. Trying to get my spouse to buy one. No issues with this purchase. Thank you. My wife and I both purchased this bike and so far, less than a month, we have been very happy with these bikes. REI seemed to crank another more than decent MTB under the new co-op brand. The geometry follows today’s trends and just riding the around, it pretty solid. I couldn’t find any info on these WTB RSi40 rims, but I’m kinda liking the 2.8 wheels on a 27.5. I also got the wheels converted to tubeless for free in the store (although I did have to buy valve stems and sealant). I don’t have a lot of ride time yet but thought I’d write something since I can’t find any reviews of this bike online. I\\'ve ridden bikes for years, however not so much Full Suspension trail bikes. I liked this bike simply because of the frame and color. It comes equipped with everything you need to hit the trails. I recently took out the stock tires and added Maxxis DHR II and DHF (Tubeless) just by doing that the bike traction has been great. I\\'ve had the bike for over a month and absolutely love it. With that said I would give it a 3.5/5 just because it\\'s more of a bike to upgrade with rather than sticking with the stocked parts. My chain got stiff links just within a couple weeks. Front and rear shocks are just fine. Extremely smooth and solid bike, other users complaining about shock noise have the rebound adjust on (turtle) which is obviously slow which causes the air to move slower through the internal valve of the shock causing noise. When set on (rabbit) the shocks are quiet and smooth. Frame is very comfortable with a drastic rake aft. With the clutch engaged the drivetrain is quiet over obstacles. Overall it is a great bike for the price. This is my second REI Co-Op bike, always love there sophisticated color schemes --- Thanks for making good looking Bikes REI! I was excited to pick this up, drive from over 3 hours away as there are no reputable bike shops near me. When they wheeled it out I was thrilled. After advising I should purchase a pump for the air suspension, I had a simple question for the person at the bike shop desk. “I don’t know. I’m not a mountain biker.” Was how it was answered, with no follow up. Not exactly what I expected from an REI employee. Fast forward a month and about 8 hours of trail later, the bike is almost unusable. What may be a problem with the chain is causing slippage and near constant missed shifts. Brake caliper bolts were found to be loose, judging by loctite on the threads, it seems they were never torqued or even tightened. There is creaking coming from what may be the bottom bracket and excessive side to side play in the rear wheel. I still hope to get this bike dialed in and am disappointed I need to set aside a day to bring it back and get the chain issue taken care of, just to be able to get enough time on it to make a review of the actual product, as I suspect properly assembled it would rate a 4/5. Really fun bike, unfortunately the front shock has an extremely loud decompression noise. (Long unsquishing sound) This sound is non-stop thru roots. Friendly REI bike shop tried to remedy, elevated to the senior tech who finally decided it was a \\'Normal\\' shock noise. Just too loud, well the shock and your buddies laughing at you! With the rest of the bike was really great, sad to return. Overall handling is very good and especially shines when going downhill. Lots of climbing traction but a bit on the heavy side. Handlebar is narrower (740) than I\\'m used to (780) which in theory should make riding through tight trees.easier, but in practice the longer bar is easier to control anyway so it\\'s easier to lean the bike to fit through. The gear range is quite limited with only 28 front and 11-42 in the back. The brakes would probably be the first to get upgraded. Nowhere near the 1-finger ease and strong bite of the XT brakes I have on my older bike. The rear shock\\'s metal valve sticks out just enough where you can hit your knee or thigh on it on dismounts. I have already scratched my thigh on it on the first ride. The metal is pretty sharp and is also a problem on the 3.2 bike which is basically the same frame. My son has also cut his knee on the shock valve of his 3.2. The front fork makes a loud squishing sound on quick decompression which you will hear when lifting up the front wheel to ride over logs for example. Not really that bothersome amidst all the sounds of riding on the trail. At least the tires roll relatively quietly. The cable routing with the big hanging loop under the bottom bracket looks like it could snag on rocks or logs. Haven\\'t been a problem so far but the cables do catch a lot of mud and dirt. This is the same frame (and tires and rear shock and seatpost and seat and handlebars) as the 3.2 bike. It has modern frame geometry that would be a good base for upgrades. If you\\'re thinking of upgrading to better than the 3.2 spec or you just like the grey/black color better, this would be the better option. If you don\\'t have upgrade plans, the 3.2 bike would be the better choice. I think the price difference easily justifies the much better fork, and the better gearing and brakes. First, the bike is great. But the first one I bought started making a creaking/squeaking sound within the first 20 minutes on the very first ride (I bought it and then immediately went riding). I brought it to the store and the bike shop mechanics were awesome and completely went through the bike and tried different remedies to fix the annoying creaking sound. After another ride and still having to listen to the creaking I had to swap that particular bike for another one of the same model. After 30+ miles on the new bike, no creaking. After reading some of the other reviews, it \"sounds\" like this model has a noise issue. So be warned/prepared. The bike has been the best bike I have ever owned and the riding has been the best ever with this bike. I can blast up and down hills that I couldn\\'t with my hardtail. I love the gearing and the shifters are great. It gets 4/5 due to the fact that the bike had some small issues that couldn\\'t get worked out combined with the fact that others are having similar issues. This bike is amazing, it\\'s a smoth ride and ready for adventure! Nice bike just needs a few little tweeks to be really nice Love this bike. I had originally planned to get the version down, and ultimately at the last minute decided to get the Eagle. No regrets - have already used that gear multiple times doing some of the gnarly climbs in the Santa Monica mountains. Great bike! Have done 3,000 foot climbs followed by technical downhills. Easy to use, lots of fun. So far I\\'m loving it! Lots of adventures to come. Treated myself to NX Eagle better spec version and love it. 1x is a revelation. Plenty of range allowing you to climb the side of a house if you want! The bike really rolls and the plus tires are confidence building. I foolishly didn’t properly check the bike when I picked it up so didn’t notice the chipped frame down by the rear dropout. Once I took it home there’s no way I could prove it wasn’t me (it wasn’t). Sure, the bike will (hopefully) get scratched and dinged on all the adventures I’ll have, but it’s good to start with a clean slate, especially when you’re dropping $2k on a ride. Anyway, as Salsa don’t sell touch up paints (why not?) I went to Michael’s and bought a basic enamel paint set. Mixed up the color to match and boom. All fixed! So, don’t be a giddy noob; ALWAYS check your bike purchases! First off, I got this bike and found the derailleur wasn\\'t adjusted. Gosh REI. Seriously? So, I adjusted limits and tension but still get that occasional bang and gear hunt you read about online. I have the SRAM eagle tool coming and will redo all adjustment once I get it. If I had it to do over I would definitely buy this bike without the SRAM eagle components. Its a great bike but would easily be 5 stars with good Shimano gear. This has been a confidence inspiring bike so far, I feel like I\\'m the weak link most of the time not the bike. One gripe is I wish it had one more tooth on the crank - I find myself running out of top speed a lot more than I run out of diesel. That\\'s fixable :) I\\'ve been riding this bike for about a year. The issues I\\'ve experienced so far: * Multiple spokes broken on the rear wheel, which was warranty replaced but with a larger rim size, so they\\'re mismatched and few tire widths will fit both rims. Both brake calipers have now failed, and the flat mount spec limits replacement options (post mount adapter does not fit in rear triangle) Front derailleur mounts in between seat tube water bottle bosses, rendering the bottle mount useless. The bike overall handles and rides fine, but I wish I would\\'ve spent a bit more up front because I\\'m paying for it now! I bought this bike back in September of 2018 with the intent of my first big ride on it being the length of the VA Creeper Trail (other bike is strictly a road bike). This bike has excelled on paved greenway paths, gravel paths, and somewhat rocky terrain. We went full speed down the mountain and it handled it like a champ. Only one flat tire and no actual issues with the bike itself. The only upgrades I’ve done so far is pedals and a Brooks saddle. I added a rack to the back for a bag and it didn’t throw off the balance too much. No complaints at all!! Super fast on road. Aggressive off road. Plenty of gears in just the wright places. Descends like a god. Rides the flat like a beast. Climbs like a goat. Carries anything you ask it to. 1,000 miles on every terrain type with all kinds of loads in 2 months since purchase no problems. I really wanted to like this bike, but I just couldn\\'t get there. I\\'ve been cycling both as a means of commuting and recreation/fitness for many years and while the majority of my miles were done on a downtube-shifter road bike from the 80s and a couple mountain bike frames with slick tires, I\\'ve also spent several hundred miles on my dad\\'s Cannondale CAAD8, which is a more modern aluminum road bike. I bought this Journeyman as a commuter / possible touring bike and to replace my current day-to-day bike, a cheap Giant Defy 3 hybrid frame (with 700c tires) -- but unfortunately the Journeyman was much heavier and considerably slower. My daily commutes (about 18 miles each way on very flat Orange County bike paths) averaged several minutes slower each way on this bike than my Giant (which I picked up used for only $150) and there really was no contest when compared to my friend\\'s budget ~$500 Fuji road bike. This was quite a disappointment given that as a gravel bike the Journeyman is touted as being equally-capable on the road. It\\'s possible that swapping the tires for something slicker / less knobby would improve it\\'s speed, but obviously this takes away from its off-road capabilities (unless you own a second wheelset for quick changes) and I didn\\'t really see this as any guarantee that the bike would improve to meet my needs, as the frame itself is rather heavy. I ended up returning the bike after a few weeks (thanks to REI\\'s generous return policy) -- it was hard to justify keeping it when it didn\\'t perform as well as what I already had. Instead of a nice \\'all-in-one\\' bike I think I may pick up a dedicated road bike for commuting and fitness rides and a cheaper mountain bike for playing around on the trails on the weekends. Madly in love with this bike, using for commute, so good After a lot of research and test rides, I settled on the Salsa Journeyman 650B. I have ridden light trails, Forbidden Drive (gravel) and road surfaces thus far and love it. The geometry of the frame (52CM) with the 650B wheels is perfect for my size (5\\'5\" with long legs and short waist). The bike is responsive, the seat it came with is actually comfortable - at least for 20 milers - and it feels very well made, right down to the finish (awesome color). Super fun bike that handles great on the road and off. Tons of frame mounts to attach racks, fenders, bottle cages, or whatever you feel like bolting to your bike. Comfortable geometry for long rides, and a carbon fork to absorb the shock and reduce fatigue. I love this bike! Bought this on back order in October. Took forever to get shipped but finally picked it up last week! My wife loves the versatility. Both a great gravel and commuter bike! Just don’t prefer the quick release wheels. Totally worth the price though! Olympic National Park here we come! I’ve had this bike for about a week and I love it. I’m a large guy for cycling/riding bikes 6’5,280lbs but on this bike I have been able to ride on the road and gravel section in Sacramento, Ca without any issues. Best road/Gravel/Adventure bike I’ve owned. This will just be my initial impression of the bike because I\\'ve only put about 28 miles on the bike so far. This has to be the most comfortable Road Bike that I\\'ve ridden by far. I\\'m still not accustomed to riding Road Bikes but the Journeyman does allow me to go the distance without experience too much lower back pain. I didn\\'t used to be a fan of riding in the drops - mainly because of lower back pain - but on this bike, I did not feel any discomfort riding in the drops and it certainly makes riding into the wind much less taxing. It is not the fastest bike in my stable. The wider tires certainly creates more rolling resistance, however riding over the rough road surfaces of the Greater Cleveland Area with these wider tires creates an almost plush ride. I will gladly take the tradeoff in speed for the added comfort. I purchased this bike to use a winter commuter. It has all the braze-ons you could ever need for mounting accessories. I specifically like the braze-ons on the top tube. I mounted an anything carrier to the top tube to carry my JBL Charge 3 speaker. Perhaps my favorite thing about this bike will be the 650b tires. Because of my long legs I tend to put the seat up fairly high to allow me more power when I peddle. The smaller wheel diameter means I can comfortably pant my foot on the ground when I\\'m stopped at lights and not feel like I\\'m going to tip over. 1 week in and I\\'m so far liking this bike very much. I\\'ve been riding an early 70s Panasonic road/racing bike for the last 15 years and was ready to add a less \"aggressive\" postured gravel/road bike. I commute daily and put about 10-15 miles a day on it. The ride is super smooth and the Apex shifters/derailleurs are great! I don\\'t feel like I\\'ve lost that much speed with only having a single chainring. Very solid, sturdy, smooth and fast adventure bike. I picked the bike up last night and noticed a difference from the specs: the front fork uses a thru axle, while the back is QR. I was planning on running my favorite set of wheels on this (both QR), but now can only use one. This was the reason I chose this bike because I\\'m a big guy and had stronger wheels built. I guess I will be pricing out at least one more wheel. I\\'ll will update this after I\\'ve ridden it a while, but beware. Volevo una buona, robusta moto da turismo come il 4.2, ma con fuori le gomme grasse dato che giro solo sulla strada e percorsi multi uso. Ho comprato questo e fatto qualche personalizzazione. Sono troppo vecchio per chinarmi e non mi piacciono i fine turner del bar, quindi ho avuto un Jones SG 2.5 bar messo su di esso, insieme a parafanghi. Took this little number on it\\'s first ride down the Central Coast of California. I picked it up a few weeks before riding 300 plus miles and took it on single track, road and various dirt terrain. The way it handles with and without bags is amazing. Even without suspension and flat bars, I was able to rock and roll up and down some nasty gravel and dirt. The 650b set up is super soft and cruises well on all surfaces. I was curious if I would lag behind the pack on a long tour (mostly on pavement) but no complaints. The tires and drop bars make for a great ride with little to no drag. No hydraulics brakes. a little under equipped for backpacking. hydraulics brakes is a must. plus its a little pricey for what you are getting. nice handle bar. not to flared out which makes it a all around bike. nice zero offset seat post. no need to buy a zero offset deore is ok. not xt but ok for the purpose. cassette does not have good gearing. the cranks are a bit small. it would be good if they had a 40/30 with higher cassette. The prices a a little high for what you are getting. I\\'ve been riding this bike for about a year. The issues I\\'ve experienced so far: * Multiple spokes broken on the rear wheel, which was warranty replaced but with a larger rim size, so they\\'re mismatched and few tire widths will fit both rims. Both brake calipers have now failed, and the flat mount spec limits replacement options (post mount adapter does not fit in rear triangle) Front derailleur mounts in between seat tube water bottle bosses, rendering the bottle mount useless. The bike overall handles and rides fine, but I wish I would\\'ve spent a bit more up front because I\\'m paying for it now! I bought this bike back in September of 2018 with the intent of my first big ride on it being the length of the VA Creeper Trail (other bike is strictly a road bike). This bike has excelled on paved greenway paths, gravel paths, and somewhat rocky terrain. We went full speed down the mountain and it handled it like a champ. Only one flat tire and no actual issues with the bike itself. The only upgrades I’ve done so far is pedals and a Brooks saddle. I added a rack to the back for a bag and it didn’t throw off the balance too much. No complaints at all!! Super fast on road. Aggressive off road. Plenty of gears in just the wright places. Descends like a god. Rides the flat like a beast. Climbs like a goat. Carries anything you ask it to. 1,000 miles on every terrain type with all kinds of loads in 2 months since purchase no problems. I really wanted to like this bike, but I just couldn\\'t get there. I\\'ve been cycling both as a means of commuting and recreation/fitness for many years and while the majority of my miles were done on a downtube-shifter road bike from the 80s and a couple mountain bike frames with slick tires, I\\'ve also spent several hundred miles on my dad\\'s Cannondale CAAD8, which is a more modern aluminum road bike. I bought this Journeyman as a commuter / possible touring bike and to replace my current day-to-day bike, a cheap Giant Defy 3 hybrid frame (with 700c tires) -- but unfortunately the Journeyman was much heavier and considerably slower. My daily commutes (about 18 miles each way on very flat Orange County bike paths) averaged several minutes slower each way on this bike than my Giant (which I picked up used for only $150) and there really was no contest when compared to my friend\\'s budget ~$500 Fuji road bike. This was quite a disappointment given that as a gravel bike the Journeyman is touted as being equally-capable on the road. It\\'s possible that swapping the tires for something slicker / less knobby would improve it\\'s speed, but obviously this takes away from its off-road capabilities (unless you own a second wheelset for quick changes) and I didn\\'t really see this as any guarantee that the bike would improve to meet my needs, as the frame itself is rather heavy. I ended up returning the bike after a few weeks (thanks to REI\\'s generous return policy) -- it was hard to justify keeping it when it didn\\'t perform as well as what I already had. Instead of a nice \\'all-in-one\\' bike I think I may pick up a dedicated road bike for commuting and fitness rides and a cheaper mountain bike for playing around on the trails on the weekends. Madly in love with this bike, using for commute, so good After a lot of research and test rides, I settled on the Salsa Journeyman 650B. I have ridden light trails, Forbidden Drive (gravel) and road surfaces thus far and love it. The geometry of the frame (52CM) with the 650B wheels is perfect for my size (5\\'5\" with long legs and short waist). The bike is responsive, the seat it came with is actually comfortable - at least for 20 milers - and it feels very well made, right down to the finish (awesome color). Super fun bike that handles great on the road and off. Tons of frame mounts to attach racks, fenders, bottle cages, or whatever you feel like bolting to your bike. Comfortable geometry for long rides, and a carbon fork to absorb the shock and reduce fatigue. I love this bike! Bought this on back order in October. Took forever to get shipped but finally picked it up last week! My wife loves the versatility. Both a great gravel and commuter bike! Just don’t prefer the quick release wheels. Totally worth the price though! Olympic National Park here we come! I’ve had this bike for about a week and I love it. I’m a large guy for cycling/riding bikes 6’5,280lbs but on this bike I have been able to ride on the road and gravel section in Sacramento, Ca without any issues. Best road/Gravel/Adventure bike I’ve owned. This will just be my initial impression of the bike because I\\'ve only put about 28 miles on the bike so far. This has to be the most comfortable Road Bike that I\\'ve ridden by far. I\\'m still not accustomed to riding Road Bikes but the Journeyman does allow me to go the distance without experience too much lower back pain. I didn\\'t used to be a fan of riding in the drops - mainly because of lower back pain - but on this bike, I did not feel any discomfort riding in the drops and it certainly makes riding into the wind much less taxing. It is not the fastest bike in my stable. The wider tires certainly creates more rolling resistance, however riding over the rough road surfaces of the Greater Cleveland Area with these wider tires creates an almost plush ride. I will gladly take the tradeoff in speed for the added comfort. I purchased this bike to use a winter commuter. It has all the braze-ons you could ever need for mounting accessories. I specifically like the braze-ons on the top tube. I mounted an anything carrier to the top tube to carry my JBL Charge 3 speaker. Perhaps my favorite thing about this bike will be the 650b tires. Because of my long legs I tend to put the seat up fairly high to allow me more power when I peddle. The smaller wheel diameter means I can comfortably pant my foot on the ground when I\\'m stopped at lights and not feel like I\\'m going to tip over. 1 week in and I\\'m so far liking this bike very much. I\\'ve been riding an early 70s Panasonic road/racing bike for the last 15 years and was ready to add a less \"aggressive\" postured gravel/road bike. I commute daily and put about 10-15 miles a day on it. The ride is super smooth and the Apex shifters/derailleurs are great! I don\\'t feel like I\\'ve lost that much speed with only having a single chainring. Very solid, sturdy, smooth and fast adventure bike. I picked the bike up last night and noticed a difference from the specs: the front fork uses a thru axle, while the back is QR. I was planning on running my favorite set of wheels on this (both QR), but now can only use one. This was the reason I chose this bike because I\\'m a big guy and had stronger wheels built. I guess I will be pricing out at least one more wheel. I\\'ll will update this after I\\'ve ridden it a while, but beware. Volevo una buona, robusta moto da turismo come il 4.2, ma con fuori le gomme grasse dato che giro solo sulla strada e percorsi multi uso. Ho comprato questo e fatto qualche personalizzazione. Sono troppo vecchio per chinarmi e non mi piacciono i fine turner del bar, quindi ho avuto un Jones SG 2.5 bar messo su di esso, insieme a parafanghi. Took this little number on it\\'s first ride down the Central Coast of California. I picked it up a few weeks before riding 300 plus miles and took it on single track, road and various dirt terrain. The way it handles with and without bags is amazing. Even without suspension and flat bars, I was able to rock and roll up and down some nasty gravel and dirt. The 650b set up is super soft and cruises well on all surfaces. I was curious if I would lag behind the pack on a long tour (mostly on pavement) but no complaints. The tires and drop bars make for a great ride with little to no drag. No hydraulics brakes. a little under equipped for backpacking. hydraulics brakes is a must. plus its a little pricey for what you are getting. nice handle bar. not to flared out which makes it a all around bike. nice zero offset seat post. no need to buy a zero offset deore is ok. not xt but ok for the purpose. cassette does not have good gearing. the cranks are a bit small. it would be good if they had a 40/30 with higher cassette. The prices a a little high for what you are getting.'"
      ]
     },
     "execution_count": 31,
     "metadata": {},
     "output_type": "execute_result"
    }
   ],
   "source": [
    "postive_sentences_as_one_string"
   ]
  },
  {
   "cell_type": "code",
   "execution_count": 32,
   "id": "cf29b07a",
   "metadata": {
    "id": "2GVjDXBFCK7_",
    "outputId": "5c866692-0432-4ed1-d22c-f48fff53e231",
    "papermill": {
     "duration": 1.23799,
     "end_time": "2022-05-11T15:41:40.875626",
     "exception": false,
     "start_time": "2022-05-11T15:41:39.637636",
     "status": "completed"
    },
    "tags": []
   },
   "outputs": [
    {
     "data": {
      "text/plain": [
       "<matplotlib.image.AxesImage at 0x274e87adcd0>"
      ]
     },
     "execution_count": 32,
     "metadata": {},
     "output_type": "execute_result"
    },
    {
     "data": {
      "image/png": "[encoded data removed]",
      "text/plain": [
       "<Figure size 2000x2000 with 1 Axes>"
      ]
     },
     "metadata": {},
     "output_type": "display_data"
    }
   ],
   "source": [
    "from wordcloud import WordCloud\n",
    "\n",
    "plt.figure(figsize=(20,20))\n",
    "plt.imshow(WordCloud().generate(postive_sentences_as_one_string))"
   ]
  },
  {
   "cell_type": "markdown",
   "id": "6e273cb0",
   "metadata": {
    "papermill": {
     "duration": 0.130323,
     "end_time": "2022-05-11T15:41:41.143029",
     "exception": false,
     "start_time": "2022-05-11T15:41:41.012706",
     "status": "completed"
    },
    "tags": []
   },
   "source": [
    "- **Plot the wordcloud of the \"negative\" dataframe** "
   ]
  },
  {
   "cell_type": "code",
   "execution_count": 33,
   "id": "4aeefc0e",
   "metadata": {
    "papermill": {
     "duration": 0.146143,
     "end_time": "2022-05-11T15:41:41.420518",
     "exception": false,
     "start_time": "2022-05-11T15:41:41.274375",
     "status": "completed"
    },
    "tags": []
   },
   "outputs": [
    {
     "data": {
      "text/plain": [
       "8"
      ]
     },
     "execution_count": 33,
     "metadata": {},
     "output_type": "execute_result"
    }
   ],
   "source": [
    "negative_sentences = negative['Review'].tolist()\n",
    "len(negative_sentences)"
   ]
  },
  {
   "cell_type": "code",
   "execution_count": 34,
   "id": "3ce2644d",
   "metadata": {
    "papermill": {
     "duration": 0.139302,
     "end_time": "2022-05-11T15:41:41.692023",
     "exception": false,
     "start_time": "2022-05-11T15:41:41.552721",
     "status": "completed"
    },
    "tags": []
   },
   "outputs": [],
   "source": [
    "negative_sentences_as_one_string = ' '.join(negative_sentences)"
   ]
  },
  {
   "cell_type": "code",
   "execution_count": 35,
   "id": "102fbb92",
   "metadata": {
    "papermill": {
     "duration": 0.1445,
     "end_time": "2022-05-11T15:41:41.971855",
     "exception": false,
     "start_time": "2022-05-11T15:41:41.827355",
     "status": "completed"
    },
    "scrolled": true,
    "tags": []
   },
   "outputs": [
    {
     "data": {
      "text/plain": [
       "'Calificé esto como \"promedio\"-- y eso es exactamente lo que es. He tenido esta bicicleta desde 2017, y es una bicicleta sólida para principiantes. esta bicicleta sobresale sobre las bicicletas de otras marcas rivales de precio similar. ventajas: frenado hidráulico, transmisión 3x8 y llantas de doble pared. los frenos hidráulicos no son los mejores de la línea, pero lo más probable es que los encuentres en una bicicleta a este precio. mediocre en el mejor de los casos. la transmisión 3x8 se adaptará a sus necesidades para paseos a través del país. Cabalgé un viaje de 67 millas, y tener los tres engranajes adicionales en la parte delantera me salvó. las llantas de doble pared son extremadamente fuertes para lo baratos que son. He enloquecido huecos, puesto una enorme fuerza lateral en las ruedas y he destruido enormes caídas. la rueda trasera tiene un ligero punto plano, pero excepto que las ruedas de esta moto están listas para la batalla. Shaved minutes off usual loops, sold 29er and other bikes. Climbs like a scalded monkey and descends unbelievabley! No disappointments! I bought the bike about a month ago for my 6000 mile long bike trip from Colombia to Argentina. I rode for 3 weeks so far, about 1200 miles. During that time I had 7 broken spokes in the back and 2 in the front. I eventually decided to replace all spokes. So far no more broken spokes. My load is considerably small compared to other people I\\'ve met on the road. Without food and water about 30-35 pounds. Also it\\'s the second bike I got from REI, since one of the threads to attach the bike rack in the back broke right at the beginning. They aren\\'t welded in, just riveted. So the thread just started to turn in its own spot. REI told me to bring the bike in, but since I\\'m actually using it for bike touring and I\\'m in South America, that\\'s impossible. So I can just hope it won\\'t make any more problems on the way. Do not buy this bike... I use it as a commuter and have had multiple broken spokes. I ride 95% on the rode and very tame dirt trail for a 1/4 of a mile. I now have to buy a new wheel 250.00 dollars later. Also broke derail. All this with 3 months of use. Tried e-mail and calling company no response. Bummed out I bought this bike Bought this bike for a pacific coast bike tour. Shipped to Seattle, seatpost binder bolt snapped at the airport. Jerry rigged a fix to get to a bike shop. Got a replacement bolt, mechanic suspended the bolt wasn’t made from hardened steel. 1200+ miles later in Gorda, Ca I discover the bottom bracket has come loose and I limp along to Cambria to stay the night. Pretty disappointing. I can’t finish my trip to LA. I haven’t ridden this bike more than 2500 total. Difficult to get tires off rim for flat repair. I can’t say this is an REI problem, but more a tubeless rim/tire combo. I tried three types before I could find a combo that worked. I bought the bike about a month ago for my 6000 mile long bike trip from Colombia to Argentina. I rode for 3 weeks so far, about 1200 miles. During that time I had 7 broken spokes in the back and 2 in the front. I eventually decided to replace all spokes. So far no more broken spokes. My load is considerably small compared to other people I\\'ve met on the road. Without food and water about 30-35 pounds. Also it\\'s the second bike I got from REI, since one of the threads to attach the bike rack in the back broke right at the beginning. They aren\\'t welded in, just riveted. So the thread just started to turn in its own spot. REI told me to bring the bike in, but since I\\'m actually using it for bike touring and I\\'m in South America, that\\'s impossible. So I can just hope it won\\'t make any more problems on the way. Do not buy this bike... I use it as a commuter and have had multiple broken spokes. I ride 95% on the rode and very tame dirt trail for a 1/4 of a mile. I now have to buy a new wheel 250.00 dollars later. Also broke derail. All this with 3 months of use. Tried e-mail and calling company no response. Bummed out I bought this bike Bought this bike for a pacific coast bike tour. Shipped to Seattle, seatpost binder bolt snapped at the airport. Jerry rigged a fix to get to a bike shop. Got a replacement bolt, mechanic suspended the bolt wasn’t made from hardened steel. 1200+ miles later in Gorda, Ca I discover the bottom bracket has come loose and I limp along to Cambria to stay the night. Pretty disappointing. I can’t finish my trip to LA. I haven’t ridden this bike more than 2500 total. Difficult to get tires off rim for flat repair. I can’t say this is an REI problem, but more a tubeless rim/tire combo. I tried three types before I could find a combo that worked.'"
      ]
     },
     "execution_count": 35,
     "metadata": {},
     "output_type": "execute_result"
    }
   ],
   "source": [
    "negative_sentences_as_one_string"
   ]
  },
  {
   "cell_type": "code",
   "execution_count": 36,
   "id": "d03da202",
   "metadata": {
    "papermill": {
     "duration": 1.019072,
     "end_time": "2022-05-11T15:41:43.124575",
     "exception": false,
     "start_time": "2022-05-11T15:41:42.105503",
     "status": "completed"
    },
    "tags": []
   },
   "outputs": [
    {
     "data": {
      "text/plain": [
       "<matplotlib.image.AxesImage at 0x274e87faee0>"
      ]
     },
     "execution_count": 36,
     "metadata": {},
     "output_type": "execute_result"
    },
    {
     "data": {
      "image/png": "[encoded data removed]",
      "text/plain": [
       "<Figure size 2000x2000 with 1 Axes>"
      ]
     },
     "metadata": {},
     "output_type": "display_data"
    }
   ],
   "source": [
    "from wordcloud import WordCloud\n",
    "\n",
    "plt.figure(figsize=(20,20))\n",
    "plt.imshow(WordCloud().generate(negative_sentences_as_one_string))"
   ]
  },
  {
   "cell_type": "markdown",
   "id": "a8c3b491",
   "metadata": {
    "id": "Y0GmpAjG3GiH",
    "papermill": {
     "duration": 0.155178,
     "end_time": "2022-05-11T15:41:43.435976",
     "exception": false,
     "start_time": "2022-05-11T15:41:43.280798",
     "status": "completed"
    },
    "tags": []
   },
   "source": [
    "# TASK #6: TEXT DATA CLEANING 101"
   ]
  },
  {
   "cell_type": "code",
   "execution_count": 37,
   "id": "fc925f9c",
   "metadata": {
    "papermill": {
     "duration": 0.163958,
     "end_time": "2022-05-11T15:41:43.756307",
     "exception": false,
     "start_time": "2022-05-11T15:41:43.592349",
     "status": "completed"
    },
    "tags": []
   },
   "outputs": [
    {
     "data": {
      "text/plain": [
       "'!\"#$%&\\'()*+,-./:;<=>?@[\\\\]^_`{|}~'"
      ]
     },
     "execution_count": 37,
     "metadata": {},
     "output_type": "execute_result"
    }
   ],
   "source": [
    "import string\n",
    "string.punctuation"
   ]
  },
  {
   "cell_type": "markdown",
   "id": "fa1f7b95",
   "metadata": {
    "papermill": {
     "duration": 0.152707,
     "end_time": "2022-05-11T15:41:44.063219",
     "exception": false,
     "start_time": "2022-05-11T15:41:43.910512",
     "status": "completed"
    },
    "tags": []
   },
   "source": [
    "Here we imported all the different punctuations\n",
    "in the english language.\n"
   ]
  },
  {
   "cell_type": "markdown",
   "id": "30831314",
   "metadata": {
    "papermill": {
     "duration": 0.152452,
     "end_time": "2022-05-11T15:41:44.370609",
     "exception": false,
     "start_time": "2022-05-11T15:41:44.218157",
     "status": "completed"
    },
    "tags": []
   },
   "source": [
    "What we wanted to do is before we take our\n",
    "verified reviews and feed it into our machine\n",
    "learning model, we wanted to clean up the data first.\n",
    "We wanted to remove all the punctuations from text first.\n"
   ]
  },
  {
   "cell_type": "code",
   "execution_count": 38,
   "id": "27a4a197",
   "metadata": {
    "papermill": {
     "duration": 0.161111,
     "end_time": "2022-05-11T15:41:44.685808",
     "exception": false,
     "start_time": "2022-05-11T15:41:44.524697",
     "status": "completed"
    },
    "tags": []
   },
   "outputs": [],
   "source": [
    "# Example\n",
    "Test = '$I love data science &and making projects...!!!'"
   ]
  },
  {
   "cell_type": "code",
   "execution_count": 39,
   "id": "9d6a840a",
   "metadata": {
    "id": "_2EewIUSPIHJ",
    "outputId": "676369fb-b40b-4137-8a15-d158d6bcb515",
    "papermill": {
     "duration": 0.167886,
     "end_time": "2022-05-11T15:41:45.016235",
     "exception": false,
     "start_time": "2022-05-11T15:41:44.848349",
     "status": "completed"
    },
    "scrolled": true,
    "tags": []
   },
   "outputs": [
    {
     "data": {
      "text/plain": [
       "['I',\n",
       " ' ',\n",
       " 'l',\n",
       " 'o',\n",
       " 'v',\n",
       " 'e',\n",
       " ' ',\n",
       " 'd',\n",
       " 'a',\n",
       " 't',\n",
       " 'a',\n",
       " ' ',\n",
       " 's',\n",
       " 'c',\n",
       " 'i',\n",
       " 'e',\n",
       " 'n',\n",
       " 'c',\n",
       " 'e',\n",
       " ' ',\n",
       " 'a',\n",
       " 'n',\n",
       " 'd',\n",
       " ' ',\n",
       " 'm',\n",
       " 'a',\n",
       " 'k',\n",
       " 'i',\n",
       " 'n',\n",
       " 'g',\n",
       " ' ',\n",
       " 'p',\n",
       " 'r',\n",
       " 'o',\n",
       " 'j',\n",
       " 'e',\n",
       " 'c',\n",
       " 't',\n",
       " 's']"
      ]
     },
     "execution_count": 39,
     "metadata": {},
     "output_type": "execute_result"
    }
   ],
   "source": [
    "Test_punc_removed = [char for char in Test if char not in string.punctuation   ]\n",
    "Test_punc_removed"
   ]
  },
  {
   "cell_type": "code",
   "execution_count": 40,
   "id": "b39bb251",
   "metadata": {
    "id": "EMWeHpqNPIJ4",
    "outputId": "eba46aa3-a3b9-4a1e-b1b4-416204e45aba",
    "papermill": {
     "duration": 0.164755,
     "end_time": "2022-05-11T15:41:45.341675",
     "exception": false,
     "start_time": "2022-05-11T15:41:45.176920",
     "status": "completed"
    },
    "tags": []
   },
   "outputs": [
    {
     "data": {
      "text/plain": [
       "'I love data science and making projects'"
      ]
     },
     "execution_count": 40,
     "metadata": {},
     "output_type": "execute_result"
    }
   ],
   "source": [
    "# Join the characters again to form the string.\n",
    "Test_punc_removed_join = ''.join(Test_punc_removed)\n",
    "Test_punc_removed_join"
   ]
  },
  {
   "cell_type": "markdown",
   "id": "8665a644",
   "metadata": {
    "papermill": {
     "duration": 0.153099,
     "end_time": "2022-05-11T15:41:45.648420",
     "exception": false,
     "start_time": "2022-05-11T15:41:45.495321",
     "status": "completed"
    },
    "tags": []
   },
   "source": [
    "The next thing we want to do is to remove what we call stopwords.\n",
    "These are common words that don't add much value\n",
    "when we train a machine learning model such as for example, __I__,\n",
    "__you__, __we__, all these are genetic common words, we call\n",
    "stopwords. It's a common practice to remove\n",
    "these stopwords in machine learning projects.\n"
   ]
  },
  {
   "cell_type": "code",
   "execution_count": 41,
   "id": "fc9b3932",
   "metadata": {
    "papermill": {
     "duration": 1.079229,
     "end_time": "2022-05-11T15:41:46.886269",
     "exception": false,
     "start_time": "2022-05-11T15:41:45.807040",
     "status": "completed"
    },
    "tags": []
   },
   "outputs": [],
   "source": [
    "import nltk # Natural Language tool kit"
   ]
  },
  {
   "cell_type": "code",
   "execution_count": 42,
   "id": "348b34b4",
   "metadata": {
    "papermill": {
     "duration": 20.215616,
     "end_time": "2022-05-11T15:42:07.259199",
     "exception": false,
     "start_time": "2022-05-11T15:41:47.043583",
     "status": "completed"
    },
    "scrolled": true,
    "tags": []
   },
   "outputs": [
    {
     "name": "stderr",
     "output_type": "stream",
     "text": [
      "[nltk_data] Downloading package stopwords to\n",
      "[nltk_data]     C:\\Users\\DONGY\\AppData\\Roaming\\nltk_data...\n",
      "[nltk_data]   Package stopwords is already up-to-date!\n"
     ]
    },
    {
     "data": {
      "text/plain": [
       "['i',\n",
       " 'me',\n",
       " 'my',\n",
       " 'myself',\n",
       " 'we',\n",
       " 'our',\n",
       " 'ours',\n",
       " 'ourselves',\n",
       " 'you',\n",
       " \"you're\",\n",
       " \"you've\",\n",
       " \"you'll\",\n",
       " \"you'd\",\n",
       " 'your',\n",
       " 'yours',\n",
       " 'yourself',\n",
       " 'yourselves',\n",
       " 'he',\n",
       " 'him',\n",
       " 'his',\n",
       " 'himself',\n",
       " 'she',\n",
       " \"she's\",\n",
       " 'her',\n",
       " 'hers',\n",
       " 'herself',\n",
       " 'it',\n",
       " \"it's\",\n",
       " 'its',\n",
       " 'itself',\n",
       " 'they',\n",
       " 'them',\n",
       " 'their',\n",
       " 'theirs',\n",
       " 'themselves',\n",
       " 'what',\n",
       " 'which',\n",
       " 'who',\n",
       " 'whom',\n",
       " 'this',\n",
       " 'that',\n",
       " \"that'll\",\n",
       " 'these',\n",
       " 'those',\n",
       " 'am',\n",
       " 'is',\n",
       " 'are',\n",
       " 'was',\n",
       " 'were',\n",
       " 'be',\n",
       " 'been',\n",
       " 'being',\n",
       " 'have',\n",
       " 'has',\n",
       " 'had',\n",
       " 'having',\n",
       " 'do',\n",
       " 'does',\n",
       " 'did',\n",
       " 'doing',\n",
       " 'a',\n",
       " 'an',\n",
       " 'the',\n",
       " 'and',\n",
       " 'but',\n",
       " 'if',\n",
       " 'or',\n",
       " 'because',\n",
       " 'as',\n",
       " 'until',\n",
       " 'while',\n",
       " 'of',\n",
       " 'at',\n",
       " 'by',\n",
       " 'for',\n",
       " 'with',\n",
       " 'about',\n",
       " 'against',\n",
       " 'between',\n",
       " 'into',\n",
       " 'through',\n",
       " 'during',\n",
       " 'before',\n",
       " 'after',\n",
       " 'above',\n",
       " 'below',\n",
       " 'to',\n",
       " 'from',\n",
       " 'up',\n",
       " 'down',\n",
       " 'in',\n",
       " 'out',\n",
       " 'on',\n",
       " 'off',\n",
       " 'over',\n",
       " 'under',\n",
       " 'again',\n",
       " 'further',\n",
       " 'then',\n",
       " 'once',\n",
       " 'here',\n",
       " 'there',\n",
       " 'when',\n",
       " 'where',\n",
       " 'why',\n",
       " 'how',\n",
       " 'all',\n",
       " 'any',\n",
       " 'both',\n",
       " 'each',\n",
       " 'few',\n",
       " 'more',\n",
       " 'most',\n",
       " 'other',\n",
       " 'some',\n",
       " 'such',\n",
       " 'no',\n",
       " 'nor',\n",
       " 'not',\n",
       " 'only',\n",
       " 'own',\n",
       " 'same',\n",
       " 'so',\n",
       " 'than',\n",
       " 'too',\n",
       " 'very',\n",
       " 's',\n",
       " 't',\n",
       " 'can',\n",
       " 'will',\n",
       " 'just',\n",
       " 'don',\n",
       " \"don't\",\n",
       " 'should',\n",
       " \"should've\",\n",
       " 'now',\n",
       " 'd',\n",
       " 'll',\n",
       " 'm',\n",
       " 'o',\n",
       " 're',\n",
       " 've',\n",
       " 'y',\n",
       " 'ain',\n",
       " 'aren',\n",
       " \"aren't\",\n",
       " 'couldn',\n",
       " \"couldn't\",\n",
       " 'didn',\n",
       " \"didn't\",\n",
       " 'doesn',\n",
       " \"doesn't\",\n",
       " 'hadn',\n",
       " \"hadn't\",\n",
       " 'hasn',\n",
       " \"hasn't\",\n",
       " 'haven',\n",
       " \"haven't\",\n",
       " 'isn',\n",
       " \"isn't\",\n",
       " 'ma',\n",
       " 'mightn',\n",
       " \"mightn't\",\n",
       " 'mustn',\n",
       " \"mustn't\",\n",
       " 'needn',\n",
       " \"needn't\",\n",
       " 'shan',\n",
       " \"shan't\",\n",
       " 'shouldn',\n",
       " \"shouldn't\",\n",
       " 'wasn',\n",
       " \"wasn't\",\n",
       " 'weren',\n",
       " \"weren't\",\n",
       " 'won',\n",
       " \"won't\",\n",
       " 'wouldn',\n",
       " \"wouldn't\"]"
      ]
     },
     "execution_count": 42,
     "metadata": {},
     "output_type": "execute_result"
    }
   ],
   "source": [
    "# You have to download stopwords Package to execute this command\n",
    "from nltk.corpus import stopwords\n",
    "nltk.download('stopwords')\n",
    "stopwords.words('english')"
   ]
  },
  {
   "cell_type": "code",
   "execution_count": 43,
   "id": "be5975e0",
   "metadata": {
    "papermill": {
     "duration": 0.162647,
     "end_time": "2022-05-11T15:42:07.578585",
     "exception": false,
     "start_time": "2022-05-11T15:42:07.415938",
     "status": "completed"
    },
    "tags": []
   },
   "outputs": [],
   "source": [
    "Test_for_stopwords = 'I have been enjoying these coding, programming and ML projects using jupyter notebook.'"
   ]
  },
  {
   "cell_type": "code",
   "execution_count": 44,
   "id": "7cda2fdf",
   "metadata": {
    "papermill": {
     "duration": 0.16551,
     "end_time": "2022-05-11T15:42:07.901539",
     "exception": false,
     "start_time": "2022-05-11T15:42:07.736029",
     "status": "completed"
    },
    "tags": []
   },
   "outputs": [],
   "source": [
    "Test_for_stopwords_clean = [word for word in Test_for_stopwords.split() if word.lower() not in stopwords.words('english')  ]"
   ]
  },
  {
   "cell_type": "code",
   "execution_count": 45,
   "id": "b7ad645f",
   "metadata": {
    "papermill": {
     "duration": 0.165889,
     "end_time": "2022-05-11T15:42:08.222894",
     "exception": false,
     "start_time": "2022-05-11T15:42:08.057005",
     "status": "completed"
    },
    "tags": []
   },
   "outputs": [
    {
     "data": {
      "text/plain": [
       "['enjoying',\n",
       " 'coding,',\n",
       " 'programming',\n",
       " 'ML',\n",
       " 'projects',\n",
       " 'using',\n",
       " 'jupyter',\n",
       " 'notebook.']"
      ]
     },
     "execution_count": 45,
     "metadata": {},
     "output_type": "execute_result"
    }
   ],
   "source": [
    "Test_for_stopwords_clean"
   ]
  },
  {
   "cell_type": "markdown",
   "id": "35e7fc20",
   "metadata": {
    "id": "7Kxb4M0pRBkU",
    "papermill": {
     "duration": 0.154745,
     "end_time": "2022-05-11T15:42:08.534147",
     "exception": false,
     "start_time": "2022-05-11T15:42:08.379402",
     "status": "completed"
    },
    "tags": []
   },
   "source": [
    "# TASK #7: PERFORM COUNT VECTORIZATION (TOKENIZATION)"
   ]
  },
  {
   "cell_type": "code",
   "execution_count": 46,
   "id": "702fa367",
   "metadata": {
    "id": "bRstHzLkRMxA",
    "papermill": {
     "duration": 0.169339,
     "end_time": "2022-05-11T15:42:08.859521",
     "exception": false,
     "start_time": "2022-05-11T15:42:08.690182",
     "status": "completed"
    },
    "tags": []
   },
   "outputs": [],
   "source": [
    "from sklearn.feature_extraction.text import CountVectorizer\n",
    "sample_data = ['This is the first paper.','This document is the second paper.','And this is the third one.','Is this the first paper?']\n",
    "\n",
    "vectorizer = CountVectorizer()\n",
    "X = vectorizer.fit_transform(sample_data)\n"
   ]
  },
  {
   "cell_type": "code",
   "execution_count": 47,
   "id": "72fc711c",
   "metadata": {
    "papermill": {
     "duration": 0.166483,
     "end_time": "2022-05-11T15:42:09.182755",
     "exception": false,
     "start_time": "2022-05-11T15:42:09.016272",
     "status": "completed"
    },
    "tags": []
   },
   "outputs": [
    {
     "name": "stdout",
     "output_type": "stream",
     "text": [
      "['and', 'document', 'first', 'is', 'one', 'paper', 'second', 'the', 'third', 'this']\n"
     ]
    },
    {
     "name": "stderr",
     "output_type": "stream",
     "text": [
      "C:\\Users\\DONGY\\Anaconda3\\lib\\site-packages\\sklearn\\utils\\deprecation.py:87: FutureWarning: Function get_feature_names is deprecated; get_feature_names is deprecated in 1.0 and will be removed in 1.2. Please use get_feature_names_out instead.\n",
      "  warnings.warn(msg, category=FutureWarning)\n"
     ]
    }
   ],
   "source": [
    "print(vectorizer.get_feature_names())"
   ]
  },
  {
   "cell_type": "code",
   "execution_count": 48,
   "id": "f7997118",
   "metadata": {
    "id": "zFACTUGSRMz6",
    "outputId": "67c8cfb6-1268-4ba4-df97-6ff88a404b15",
    "papermill": {
     "duration": 0.165132,
     "end_time": "2022-05-11T15:42:09.505557",
     "exception": false,
     "start_time": "2022-05-11T15:42:09.340425",
     "status": "completed"
    },
    "tags": []
   },
   "outputs": [
    {
     "name": "stdout",
     "output_type": "stream",
     "text": [
      "[[0 0 1 1 0 1 0 1 0 1]\n",
      " [0 1 0 1 0 1 1 1 0 1]\n",
      " [1 0 0 1 1 0 0 1 1 1]\n",
      " [0 0 1 1 0 1 0 1 0 1]]\n"
     ]
    }
   ],
   "source": [
    "print(X.toarray())"
   ]
  },
  {
   "cell_type": "code",
   "execution_count": null,
   "id": "6410343d",
   "metadata": {
    "id": "i_2dw2lMRNCP",
    "outputId": "3d03bb26-0e59-4616-8f63-e4946d6d9e73",
    "papermill": {
     "duration": 0.158946,
     "end_time": "2022-05-11T15:42:09.822115",
     "exception": false,
     "start_time": "2022-05-11T15:42:09.663169",
     "status": "completed"
    },
    "tags": []
   },
   "outputs": [],
   "source": []
  },
  {
   "cell_type": "markdown",
   "id": "9849d0a3",
   "metadata": {
    "papermill": {
     "duration": 0.160232,
     "end_time": "2022-05-11T15:42:10.141237",
     "exception": false,
     "start_time": "2022-05-11T15:42:09.981005",
     "status": "completed"
    },
    "tags": []
   },
   "source": [
    "- **Without doing any code, perform count vectorization for the following list:**\n",
    "    -  mini_challenge = ['Hello World','Hello Hello World','Hello World world world']"
   ]
  },
  {
   "cell_type": "code",
   "execution_count": 49,
   "id": "27689fbc",
   "metadata": {
    "id": "EZKZCr_ERSl7",
    "outputId": "61c736f4-84e1-4c59-db98-500d14fa9794",
    "papermill": {
     "duration": 0.167328,
     "end_time": "2022-05-11T15:42:10.466727",
     "exception": false,
     "start_time": "2022-05-11T15:42:10.299399",
     "status": "completed"
    },
    "tags": []
   },
   "outputs": [],
   "source": [
    "mini_challenge = ['Hello World','Hello Hello World','Hello World world world']\n",
    "\n",
    "vectorizer = CountVectorizer()\n",
    "Y = vectorizer.fit_transform(mini_challenge)"
   ]
  },
  {
   "cell_type": "code",
   "execution_count": 50,
   "id": "625d2058",
   "metadata": {
    "papermill": {
     "duration": 0.167635,
     "end_time": "2022-05-11T15:42:10.793281",
     "exception": false,
     "start_time": "2022-05-11T15:42:10.625646",
     "status": "completed"
    },
    "tags": []
   },
   "outputs": [
    {
     "name": "stdout",
     "output_type": "stream",
     "text": [
      "['hello', 'world']\n"
     ]
    }
   ],
   "source": [
    "print(vectorizer.get_feature_names())"
   ]
  },
  {
   "cell_type": "code",
   "execution_count": 51,
   "id": "d8bbae1d",
   "metadata": {
    "papermill": {
     "duration": 0.182787,
     "end_time": "2022-05-11T15:42:11.133519",
     "exception": false,
     "start_time": "2022-05-11T15:42:10.950732",
     "status": "completed"
    },
    "tags": []
   },
   "outputs": [
    {
     "name": "stdout",
     "output_type": "stream",
     "text": [
      "[[1 1]\n",
      " [2 1]\n",
      " [1 3]]\n"
     ]
    }
   ],
   "source": [
    "print(Y.toarray())"
   ]
  },
  {
   "cell_type": "markdown",
   "id": "925dd293",
   "metadata": {
    "id": "2geMzGITbZPJ",
    "papermill": {
     "duration": 0.160046,
     "end_time": "2022-05-11T15:42:11.480117",
     "exception": false,
     "start_time": "2022-05-11T15:42:11.320071",
     "status": "completed"
    },
    "tags": []
   },
   "source": [
    "# TASK #8: CREATE A PIPELINE TO REMOVE PUNCTUATIONS, STOPWORDS AND PERFORM COUNT VECTORIZATION"
   ]
  },
  {
   "cell_type": "code",
   "execution_count": 52,
   "id": "7ed3fe7e",
   "metadata": {
    "id": "WHJnbIDeSmlm",
    "papermill": {
     "duration": 0.170373,
     "end_time": "2022-05-11T15:42:11.810371",
     "exception": false,
     "start_time": "2022-05-11T15:42:11.639998",
     "status": "completed"
    },
    "tags": []
   },
   "outputs": [],
   "source": [
    "# Let's define a pipeline to clean up all the messages \n",
    "# The pipeline performs the following: (1) remove punctuation, (2) remove stopwords\n",
    "\n",
    "def message_cleaning(message):\n",
    "    Test_punc_removed = [char for char in message if char not in string.punctuation]\n",
    "    Test_punc_removed_join = ''.join(Test_punc_removed)\n",
    "    Test_punc_removed_join_clean = [ word for word in Test_punc_removed_join.split() if word.lower() not in stopwords.words('english')]\n",
    "    return Test_punc_removed_join_clean"
   ]
  },
  {
   "cell_type": "code",
   "execution_count": 53,
   "id": "0a6b2c5b",
   "metadata": {
    "id": "TxAYpIXXSmoZ",
    "papermill": {
     "duration": 10.499255,
     "end_time": "2022-05-11T15:42:22.469195",
     "exception": false,
     "start_time": "2022-05-11T15:42:11.969940",
     "status": "completed"
    },
    "tags": []
   },
   "outputs": [],
   "source": [
    "# Let's test the newly added function\n",
    "reviews_df_clean = reviews_df['Review'].apply(message_cleaning)"
   ]
  },
  {
   "cell_type": "code",
   "execution_count": 55,
   "id": "70b5348d",
   "metadata": {
    "papermill": {
     "duration": 0.166801,
     "end_time": "2022-05-11T15:42:22.795241",
     "exception": false,
     "start_time": "2022-05-11T15:42:22.628440",
     "status": "completed"
    },
    "tags": []
   },
   "outputs": [
    {
     "name": "stdout",
     "output_type": "stream",
     "text": [
      "I picked up this bicycle after my bike packing trip this fall through WV. I rode my rigid carbon hardtail for the trip and it was great but the lack of mounts left me looking for a secondary bicycle. The sale price Of this bicycle Made this purchase a no brainer. The mix of components, precision of the bar end shifters and the weight make is fun on the road, loaded up with Relevate Bags or riding single track. I picked a large frame as I’m 5’10” with a 32in inseam and it was a bit more upright and tight when in a saddle for my preference. Putting a Thompson setback seatpost fixed that minor issue. It’s perfect now. I was looking to buy a Kona Sutra LTD or Specialized gravel bike but for the money the ADV 3.2 was the way to go.\n"
     ]
    }
   ],
   "source": [
    "# show the original review\n",
    "print(reviews_df['Review'][5])"
   ]
  },
  {
   "cell_type": "code",
   "execution_count": 56,
   "id": "9fef618e",
   "metadata": {
    "id": "DXnYj4Q8SmrH",
    "outputId": "689c9dc9-4871-48d8-88df-40d02ff51e58",
    "papermill": {
     "duration": 0.17062,
     "end_time": "2022-05-11T15:42:23.125581",
     "exception": false,
     "start_time": "2022-05-11T15:42:22.954961",
     "status": "completed"
    },
    "tags": []
   },
   "outputs": [
    {
     "name": "stdout",
     "output_type": "stream",
     "text": [
      "['picked', 'bicycle', 'bike', 'packing', 'trip', 'fall', 'WV', 'rode', 'rigid', 'carbon', 'hardtail', 'trip', 'great', 'lack', 'mounts', 'left', 'looking', 'secondary', 'bicycle', 'sale', 'price', 'bicycle', 'Made', 'purchase', 'brainer', 'mix', 'components', 'precision', 'bar', 'end', 'shifters', 'weight', 'make', 'fun', 'road', 'loaded', 'Relevate', 'Bags', 'riding', 'single', 'track', 'picked', 'large', 'frame', 'I’m', '5’10”', '32in', 'inseam', 'bit', 'upright', 'tight', 'saddle', 'preference', 'Putting', 'Thompson', 'setback', 'seatpost', 'fixed', 'minor', 'issue', 'It’s', 'perfect', 'looking', 'buy', 'Kona', 'Sutra', 'LTD', 'Specialized', 'gravel', 'bike', 'money', 'ADV', '32', 'way', 'go']\n"
     ]
    }
   ],
   "source": [
    "# show the cleaned up version\n",
    "print(reviews_df_clean[5])"
   ]
  },
  {
   "cell_type": "markdown",
   "id": "c5df782b",
   "metadata": {
    "papermill": {
     "duration": 0.160428,
     "end_time": "2022-05-11T15:42:23.447748",
     "exception": false,
     "start_time": "2022-05-11T15:42:23.287320",
     "status": "completed"
    },
    "tags": []
   },
   "source": [
    "What I wanted to do next is I'm gonna apply agan\n",
    "the same pipeline to do the count vectorizer\n",
    "which is what we have done in Task 7.\n"
   ]
  },
  {
   "cell_type": "code",
   "execution_count": 58,
   "id": "af8a3999",
   "metadata": {
    "id": "0oZBSWUVTGV9",
    "papermill": {
     "duration": 10.838681,
     "end_time": "2022-05-11T15:42:34.447477",
     "exception": false,
     "start_time": "2022-05-11T15:42:23.608796",
     "status": "completed"
    },
    "tags": []
   },
   "outputs": [],
   "source": [
    "# Define the cleaning pipeline we defined earlier\n",
    "vectorizer = CountVectorizer(analyzer=message_cleaning)\n",
    "reviews_countvectorizer = vectorizer.fit_transform(reviews_df['Review'])"
   ]
  },
  {
   "cell_type": "code",
   "execution_count": 59,
   "id": "a011e4b0",
   "metadata": {
    "id": "UjQ6A1iKTcSu",
    "outputId": "4b2b999b-d3c9-4ef9-be39-9028d156bca2",
    "papermill": {
     "duration": 0.17864,
     "end_time": "2022-05-11T15:42:34.789951",
     "exception": false,
     "start_time": "2022-05-11T15:42:34.611311",
     "status": "completed"
    },
    "scrolled": true,
    "tags": []
   },
   "outputs": [
    {
     "name": "stdout",
     "output_type": "stream",
     "text": [
      "['1', '100', '1000', '1015', '105s', '10spd', '1100', '1140', '1142', '11spd', '1200', '12000', '14', '145', '15', '150', '1500', '16', '16mph', '18', '1finger', '1x', '2', '20', '200', '2017', '2018', '2019', '20mph', '25', '2500', '25000', '275', '28', '28mm', '29er', '2k', '3', '30', '300', '3000', '3035', '30cm', '32', '32in', '340', '35', '355', '35mph', '36', '3x7', '3x8', '400', '4022', '4024', '4030', '40mm', '42', '45', '5', '500', '50mm', '52CM', '55', '5’10”', '6', '60', '6000', '62', '650B', '650b', '6600', '67', '6’5280lbs', '7', '700c', '70s', '740', '780', '8', '80s', '95', 'ACL', 'ADV', 'AL', 'ALWAYS', 'ARD', 'Aggressive', 'Also', 'Although', 'Always', 'America', 'Andare', 'Anyway', 'Anyways', 'Apex', 'Area', 'Argentina', 'Aunque', 'Bags', 'Best', 'Bike', 'Bikes', 'Bought', 'Brake', 'British', 'Brooks', 'Bummed', 'CAAD8', 'COOP', 'Ca', 'Cabalgé', 'Cairo', 'Calificé', 'California', 'Cambria', 'Cannondale', 'Capo', 'Carries', 'Ce', 'Central', 'Cette', 'Charge', 'Città', 'Cleveland', 'Climbs', 'CoOp', 'Coast', 'Coda', 'Colombia', 'Columbia', 'Comfortable', 'Comp', 'Completed', 'Compró', 'Cooperativa', 'County', 'Creeper', 'C’est', 'DHF', 'DHR', 'Dans', 'Defy', 'Denver', 'Descends', 'Difficult', 'Disc', 'Drive', 'Eagle', 'Easy', 'Ebike', 'En', 'Es', 'Esta', 'Even', 'Everything', 'Extremely', 'FS', 'Fast', 'Feels', 'First', 'Flagship', 'Forbidden', 'Frame', 'Friendly', 'Front', 'Fuji', 'Full', 'GX', 'Gear', 'Get', 'Giant', 'Gorda', 'Gosh', 'Got', 'Great', 'Greater', 'Handlebar', 'Handled', 'Havent', 'Highly', 'Ho', 'Hopefully', 'Horizon', 'However', 'II', 'Il', 'Ill', 'Im', 'Instead', 'It’s', 'Ive', 'I’d', 'I’ll', 'I’m', 'I’ve', 'JBL', 'Jamis', 'Jerry', 'Jones', 'Journeyman', 'J’adore', 'J’ai', 'J’en', 'Kinda', 'Knees', 'Kona', 'Kootenai', 'LA', 'LTD', 'La', 'Lake', 'Les', 'Light', 'Lo', 'Long', 'Lookout', 'Lots', 'Love', 'MTB', 'Made', 'Madly', 'Mais', 'Makes', 'Marathons', 'Maxxis', 'May', 'Maybe', 'Mi', 'Michael’s', 'Midnight', 'Mixed', 'Monica', 'Mountain', 'Multiple', 'Muy', 'NX', 'NYC', 'National', 'Near', 'New', 'Nice', 'Normal', 'November', 'Nowhere', 'Nunca', 'OK', 'October', 'Oltre', 'Olympic', 'One', 'Orange', 'Overall', 'Où', 'Panasonic', 'Parece', 'Park', 'Perhaps', 'Plenty', 'Plus', 'Pretty', 'Prior', 'Putting', 'QR', 'Quei', 'Queríamos', 'Quick', 'REI', 'REIs', 'RSi40', 'Rapidfire', 'Really', 'Relevate', 'Rides', 'Riding', 'Road', 'SG', 'SRAM', 'SX', 'Sacramento', 'Salsa', 'Santa', 'Schwalbe', 'Seattle', 'Sempre', 'September', 'Seriously', 'Shaved', 'Shifters', 'Shifts', 'Shimano', 'Shipped', 'Sin', 'Smooth', 'Sono', 'South', 'Special', 'Specialized', 'Super', 'Sure', 'Surly', 'Suspension', 'Sutra', 'Switched', 'Synapse', 'Tener', 'Tested', 'Thank', 'Thanks', 'Thats', 'Thompson', 'Tiagra', 'Todos', 'Together', 'Tons', 'Took', 'Totally', 'Trail', 'Treated', 'Tried', 'Trying', 'Tubeless', 'Un', 'Une', 'VA', 'Volevo', 'WTB', 'WV', 'Well', 'Wide', 'Without', 'Womens', 'Would', 'XT', 'York', 'able', 'absolutely', 'absorb', 'absorbency', 'absorbs', 'accadere', 'accessories', 'accident', 'accustomed', 'acerca', 'acheté', 'actual', 'actually', 'adaptará', 'adapter', 'add', 'added', 'adecuado', 'adicionales', 'adjust', 'adjusted', 'adjustment', 'adolescente', 'adventure', 'adventures', 'advising', 'affrontare', 'aft', 'aggressive', 'agile', 'ago', 'air', 'airport', 'algo', 'allinone', 'allo', 'allow', 'allowing', 'almost', 'along', 'already', 'alrededor', 'also', 'although', 'altre', 'aluminum', 'always', 'amable', 'amazing', 'amidst', 'amigos', 'among', 'amour', 'anni', 'annoying', 'années', 'another', 'answered', 'anteriore', 'anymore', 'anything', 'anyway', 'après', 'arent', 'around', 'arrive', 'arrière', 'arrondir', 'asfalto', 'aside', 'ask', 'asphalt', 'assembled', 'así', 'attach', 'attaché', 'attesa', 'attraverso', 'auto', 'available', 'avais', 'avec', 'averaged', 'avere', 'averiguar', 'avg', 'avid', 'avuto', 'away', 'awesome', 'axle', 'ayudarnos', 'años', 'back', 'backpacking', 'bag', 'bags', 'balade', 'balance', 'bang', 'bar', 'baratos', 'barre', 'bars', 'base', 'basic', 'basically', 'basse', 'basso', 'batalla', 'batterie', 'beast', 'beaucoup', 'become', 'beginning', 'behind', 'best', 'better', 'beware', 'bicicleta', 'bicicletas', 'bicicletta', 'bicycle', 'bien', 'big', 'bike', 'bikepacking', 'biker', 'biker”', 'bikes', 'binder', 'bit', 'bite', 'blast', 'bolt', 'bolting', 'bolts', 'bonne', 'bonus', 'boom', 'bosses', 'bother', 'bothersome', 'bottle', 'bottom', 'bought', 'bracket', 'brainer', 'brake', 'brakes', 'brakeshifter', 'brand', 'brands', 'brazeons', 'break', 'breaks', 'bring', 'brochette', 'broke', 'broken', 'brought', 'buddies', 'budget', 'buena', 'build', 'building', 'built', 'bummed', 'bumps', 'buona', 'buy', 'cable', 'cables', 'cages', 'calidad', 'caliper', 'calipers', 'calling', 'cambi', 'cambiar', 'cambiare', 'came', 'can’t', 'capabilities', 'capaz', 'características', 'caractéristique', 'carbon', 'care', 'carrier', 'carry', 'casos', 'cassette', 'cassé', 'cassée', 'catch', 'categoria', 'category', 'causes', 'causing', 'caídas', 'ce', 'centimètres', 'cera', 'certainly', 'cette', 'chain', 'chainring', 'champ', 'change', 'changes', 'che', 'cheap', 'cheaper', 'check', 'chinarmi', 'chipped', 'chirurgie', 'choice', 'choices', 'chose', 'ciclismo', 'città', 'city', 'clean', 'climb', 'climbing', 'climbs', 'clothing', 'clutch', 'coast', 'cog', 'color', 'colore', 'combined', 'combo', 'come', 'comes', 'comfort', 'comfortable', 'comfortably', 'coming', 'comme', 'commute', 'commuter', 'commutes', 'commuting', 'como', 'company', 'compared', 'complaining', 'complaints', 'completely', 'compliments', 'component', 'componentes', 'components', 'comprada', 'comprato', 'con', 'conception', 'confidence', 'confirmo', 'confortable', 'conmigo', 'considerably', 'constant', 'contento', 'contest', 'control', 'converted', 'coop', 'could', 'couldnt', 'couldn’t', 'couple', 'crank', 'cranks', 'creaking', 'creakingsqueaking', 'creates', 'crecer', 'cresciuto', 'crosscountry', 'cruises', 'cualquier', 'curious', 'current', 'cut', 'cuándo', 'cycling', 'cyclingriding', 'cómo', 'cómodo', 'c’est', 'da', 'dads', 'daily', 'dal', 'dans', 'dare', 'dato', 'daughters', 'day', 'daytoday', 'de', 'decent', 'decided', 'decompression', 'dedicated', 'default', 'definitely', 'definitivamente', 'degli', 'del', 'delantera', 'della', 'demiétoile', 'deore', 'derail', 'derailleur', 'dernier', 'dernière', 'dernières', 'des', 'descendent', 'descendiendo', 'descending', 'descends', 'desde', 'designers', 'desk', 'destruido', 'detalles', 'deux', 'di', 'dialed', 'diameter', 'didnt', 'didn’t', 'diesel', 'difference', 'different', 'dijeron', 'dinged', 'dirt', 'disappointed', 'disappointing', 'disappointment', 'disappointments', 'disc', 'discomfort', 'discover', 'dismounts', 'distance', 'distanza', 'doble', 'doesnt', 'doitall', 'dollars', 'donc', 'done', 'donne', 'donné', 'dont', 'don’t', 'dovuto', 'downhill', 'downhills', 'downtubeshifter', 'drag', 'drastic', 'drive', 'drivetrain', 'drop', 'dropout', 'dropping', 'drops', 'duda', 'due', 'durante', 'déchiré', 'désigner', 'désirer', 'dû', 'd’autre', 'd’emballage', 'd’être', 'e', 'eagle', 'early', 'ease', 'easier', 'easily', 'easy', 'ed', 'effortless', 'effortlessly', 'el', 'elevated', 'ella', 'elle', 'email', 'employee', 'en', 'enamel', 'encanta', 'encantan', 'encontrar', 'encuentres', 'end', 'ended', 'engaged', 'engranajes', 'enjoy', 'enloquecido', 'enorme', 'enormes', 'enough', 'equallycapable', 'equipped', 'era', 'es', 'escalando', 'escarpées', 'eso', 'especial', 'especially', 'esposa', 'esso', 'est', 'esta', 'estaba', 'estable', 'este', 'esto', 'estoy', 'están', 'et', 'even', 'eventually', 'ever', 'every', 'everyone', 'everything', 'exactamente', 'exactly', 'example', 'excelled', 'excellent', 'except', 'excepto', 'excessive', 'excited', 'expected', 'experience', 'experienced', 'experimentado', 'explicar', 'extensively', 'extra', 'extremadamente', 'extremely', 'fact', 'faible', 'failed', 'failing', 'fairly', 'fall', 'fan', 'fantastic', 'far', 'fare', 'fast', 'fastest', 'fatigue', 'fatto', 'favorite', 'feel', 'feeling', 'feels', 'femme', 'fender', 'fenders', 'feu', 'fiancee', 'fin', 'finally', 'find', 'fine', 'finish', 'first', 'fit', 'fitness', 'fix', 'fixable', 'fixed', 'flared', 'flat', 'flats', 'fois', 'follow', 'followed', 'follows', 'fonctionnalités', 'fonctionnent', 'food', 'foolishly', 'foot', 'forever', 'fork', 'forward', 'found', 'frame', 'frames', 'free', 'frenado', 'frenos', 'friends', 'front', 'fue', 'fuertes', 'fuerza', 'full', 'fun', 'funcionan', 'fuori', 'fácil', 'game', 'gear', 'gearing', 'gears', 'generous', 'geometry', 'get', 'gets', 'getting', 'giddy', 'giro', 'give', 'given', 'gladly', 'gnarly', 'go', 'goat', 'god', 'going', 'gomme', 'gone', 'good', 'got', 'grande', 'grandes', 'grandson', 'grasse', 'gravel', 'gravelroad', 'great', 'greenway', 'grew', 'greyblack', 'grigio', 'gripe', 'ground', 'guarantee', 'guess', 'guidato', 'guy', 'guys', 'ha', 'había', 'hace', 'han', 'handle', 'handlebars', 'handled', 'handles', 'handling', 'hands', 'hanging', 'happen', 'happy', 'hard', 'hardened', 'hardtail', 'haven’t', 'hear', 'heavier', 'heavy', 'hidráulico', 'hidráulicos', 'high', 'higher', 'hill', 'hills', 'hit', 'hitting', 'ho', 'hold', 'home', 'hope', 'hopefully', 'hors', 'hot', 'hour', 'hours', 'house', 'however', 'huecos', 'hundred', 'hunt', 'hybrid', 'hydraulics', 'il', 'immediately', 'impossible', 'impresionante', 'impression', 'improve', 'incidente', 'inconvénients', 'increased', 'info', 'initial', 'inquiétant', 'inseam', 'insieme', 'inspiring', 'install', 'intent', 'internal', 'intervals', 'intuitiva', 'io', 'issue', 'issues', 'it’s', 'je', 'jinete', 'judging', 'jusqu’à', 'justifies', 'justify', 'j’ai', 'j’avais', 'keeping', 'keeps', 'kinda', 'kinds', 'km', 'knee', 'knees', 'knobby', 'know', 'lAfrica', 'la', 'lack', 'lag', 'laisse', 'laissé', 'laptop', 'large', 'larger', 'las', 'last', 'later', 'lateral', 'laughing', 'lbs', 'le', 'lean', 'least', 'left', 'legs', 'length', 'lento', 'les', 'less', 'level', 'libras', 'lifting', 'ligero', 'light', 'lights', 'like', 'liked', 'liking', 'limited', 'limits', 'limp', 'link', 'links', 'lisse', 'listas', 'listen', 'little', 'livello', 'llantas', 'lo', 'load', 'loaded', 'loads', 'local', 'loctite', 'logs', 'long', 'longer', 'looking', 'looks', 'loop', 'loops', 'loose', 'los', 'lost', 'lot', 'lots', 'loud', 'lourde', 'love', 'loved', 'loves', 'loving', 'lower', 'lunga', 'lésiné', 'línea', 'l’accord', 'l’arrièrepays', 'l’ensemble', 'l’intention', 'made', 'magasin', 'mainly', 'mais', 'majority', 'make', 'makes', 'making', 'mani', 'manutenzione', 'many', 'marcas', 'marcha', 'marche', 'marcia', 'marre', 'match', 'may', 'means', 'mechanic', 'mechanical', 'mechanics', 'mediocre', 'meet', 'meilleure', 'mejor', 'mejores', 'mens', 'mesi', 'messo', 'met', 'metal', 'meterla', 'mi', 'micro', 'middle', 'mile', 'milers', 'miles', 'millas', 'milles', 'mils', 'minières', 'minor', 'minute', 'minutes', 'mio', 'mismatched', 'missed', 'mix', 'model', 'modern', 'moi', 'molte', 'molto', 'moment', 'money', 'monkey', 'montar', 'monterai', 'month', 'months', 'monté', 'mostly', 'moto', 'motociclista', 'mount', 'mountain', 'mountains', 'mounted', 'mounting', 'mounts', 'move', 'much', 'mucho', 'mud', 'multi', 'multiple', 'must', 'muy', 'más', 'm’a', 'name', 'narrowed', 'narrower', 'nasty', 'ne', 'near', 'nearly', 'necesidades', 'need', 'needs', 'nella', 'nervioso', 'never', 'new', 'next', 'nice', 'night', 'noise', 'non', 'nonstop', 'nontechnical', 'noob', 'notice', 'noticed', 'nouveau', 'nueva', 'nuit', 'number', 'obstacles', 'obviously', 'occasional', 'offers', 'offroad', 'offset', 'ofrecer', 'often', 'ok', 'old', 'older', 'one', 'online', 'ontils', 'option', 'options', 'order', 'ordinaire', 'originally', 'others', 'otras', 'ou', 'overall', 'owned', 'pace', 'pacific', 'pack', 'packing', 'packs', 'pain', 'paint', 'paints', 'pant', 'par', 'para', 'parafanghi', 'pareballes', 'pared', 'parfait', 'part', 'parte', 'particular', 'parts', 'pas', 'pasando', 'paseos', 'paths', 'pausa', 'paved', 'pavement', 'paying', 'pays', 'país', 'pedals', 'peddle', 'peddling', 'people', 'per', 'percorrendo', 'percorsi', 'perfect', 'perfecta', 'perfecto', 'perform', 'pero', 'person', 'personalizzazione', 'personnelle', 'pesado', 'petit', 'peu', 'peur', 'peutêtre', 'peux', 'piacciono', 'piaciuto', 'pick', 'picked', 'pista', 'pièces', 'places', 'planned', 'planning', 'plano', 'plans', 'play', 'playing', 'plus', 'plush', 'poco', 'point', 'policy', 'possible', 'post', 'postured', 'poteau', 'pounding', 'pounds', 'pour', 'power', 'practice', 'precio', 'precision', 'prefer', 'preference', 'première', 'prendre', 'pressure', 'pretty', 'previous', 'price', 'prices', 'pricey', 'pricing', 'primera', 'primero', 'principiantes', 'priorseason', 'pris', 'probable', 'probablement', 'probably', 'problem', 'problems', 'product', 'producto', 'promedio', 'pronto', 'properly', 'proprio', 'prove', 'provided', 'préférence', 'prévoyons', 'próximos', 'pudiera', 'puesto', 'pump', 'punto', 'purchase', 'purchased', 'purchases', 'purchasing', 'purpose', 'purposes', 'push', 'pushes', 'put', 'qualche', 'qualité', 'quarts', 'quasi', 'quattro', 'que', 'quelques', 'questa', 'question', 'questo', 'qui', 'quick', 'quiet', 'quietly', 'quindi', 'quite', 'rabbit', 'rack', 'racks', 'raggiungere', 'rake', 'range', 'rapide', 'rapport', 'rate', 'rater', 'rather', 'reaching', 'read', 'reading', 'ready', 'real', 'really', 'realmente', 'rear', 'reason', 'rebound', 'recently', 'recomendaría', 'recommend', 'recommended', 'recreationfitness', 'redo', 'reduce', 'region', 'regrets', 'relatively', 'release', 'remedies', 'remedy', 'rendering', 'repair', 'replace', 'replaced', 'replacement', 'replacing', 'reputable', 'research', 'resistance', 'response', 'responsive', 'rest', 'rethink', 'return', 'returning', 'revelation', 'revenir', 'review', 'reviews', 'ridden', 'ride', 'rides', 'riding', 'rien', 'rigged', 'right', 'rigid', 'rim', 'rims', 'rimtire', 'rings', 'ripensare', 'rivales', 'riveted', 'rivière', 'road', 'roadGravelAdventure', 'roadracing', 'roads', 'robusta', 'rock', 'rocks', 'rocky', 'rode', 'roll', 'rolling', 'rolls', 'roots', 'rough', 'route', 'routes', 'routine', 'routing', 'rueda', 'ruedas', 'run', 'running', 'sad', 'saddle', 'said', 'sale', 'salsa', 'salvó', 'sans', 'santé', 'say', 'says', 'scalded', 'schemes', 'scontroso', 'scratched', 'se', 'sealant', 'searched', 'searching', 'seat', 'seatpost', 'second', 'secondary', 'section', 'see', 'seemed', 'seems', 'sei', 'sell', 'semaine', 'semanas', 'semble', 'senior', 'ser', 'sera', 'serai', 'service', 'será', 'sería', 'set', 'setback', 'settled', 'seulement', 'several', 'sharp', 'shift', 'shifters', 'shiftersderailleurs', 'shifting', 'shifts', 'shines', 'shipped', 'shock', 'shocks', 'shop', 'shops', 'short', 'shortly', 'side', 'siente', 'similar', 'simple', 'simplemente', 'simply', 'since', 'single', 'size', 'siège', 'slate', 'slick', 'slicker', 'slippage', 'slow', 'slower', 'sluggish', 'small', 'smaller', 'smooth', 'smoothly', 'smoth', 'snag', 'snapped', 'sobre', 'sobresale', 'soft', 'sold', 'solid', 'solo', 'someone', 'something', 'somewhat', 'son', 'soninlaw', 'sono', 'sons', 'soon', 'sophisticated', 'sound', 'sounds', 'soy', 'speaker', 'spec', 'speciale', 'specifically', 'specs', 'speed', 'spent', 'spokes', 'spot', 'spouse', 'squishing', 'stabile', 'stable', 'stars', 'start', 'started', 'stata', 'stato', 'stay', 'steel', 'stems', 'stesso', 'sticking', 'sticks', 'stiff', 'still', 'stock', 'stocked', 'stopped', 'stopping', 'store', 'strada', 'strictly', 'strong', 'stronger', 'sturdy', 'su', 'suciedad', 'suficiente', 'suis', 'suited', 'sulla', 'summer', 'super', 'supportato', 'sur', 'surfaces', 'surly', 'sus', 'suspect', 'suspended', 'suspension', 'swap', 'swapping', 'sólida', 's’est', 'tag', 'take', 'taken', 'takes', 'taking', 'tamaño', 'tame', 'tanto', 'taxing', 'tech', 'technical', 'telle', 'temperatures', 'tend', 'tener', 'tenido', 'tension', 'terrain', 'terre', 'terreno', 'test', 'thanks', 'thats', 'theory', 'there’s', 'theyre', 'thigh', 'thing', 'think', 'thinking', 'though', 'thought', 'thread', 'threads', 'three', 'thrilled', 'throw', 'thru', 'thus', 'tiempo', 'tienda', 'tiene', 'tight', 'tightened', 'time', 'times', 'tip', 'tipo', 'tire', 'tires', 'todas', 'today’s', 'todos', 'told', 'tomaré', 'tombé', 'tomorrow', 'took', 'tool', 'tooth', 'top', 'torqued', 'total', 'touch', 'tour', 'toured', 'touring', 'tours', 'touted', 'town', 'track', 'traction', 'tradeoff', 'trail', 'trails', 'train', 'tranne', 'transmisión', 'trasera', 'travail', 'travers', 'través', 'treeseasier', 'trends', 'treno', 'tres', 'triangle', 'tried', 'trip', 'troppo', 'très', 'tube', 'tubeless', 'turismo', 'turn', 'turner', 'turni', 'turtle', 'tutto', 'tweeks', 'two', 'type', 'types', 'técnica', 'ultimately', 'ultimi', 'un', 'una', 'unbelievabley', 'une', 'unfortunately', 'unless', 'uno', 'unsquishing', 'unusable', 'update', 'upgrade', 'upgraded', 'upgrades', 'upgrading', 'uphill', 'upright', 'usandoli', 'use', 'used', 'useless', 'users', 'uses', 'using', 'uso', 'usual', 'utilisé', 'value', 'valve', 'various', 'varying', 'vecchio', 'ventajas', 'venuto', 'vero', 'versatility', 'version', 'versione', 'versátil', 'verticale', 'viaggio', 'viaje', 'vieilles', 'vis', 'vitesse', 'voyage', 'vélo', 'vélos', 'waist', 'wait', 'waiting', 'want', 'wanted', 'warnedprepared', 'warranty', 'wasnt', 'wasn’t', 'water', 'way', 'weak', 'weather', 'website', 'week', 'weekends', 'weeks', 'weight', 'welded', 'well', 'went', 'west', 'whatever', 'wheel', 'wheeled', 'wheels', 'wheelset', 'wider', 'widths', 'wife', 'wind', 'winter', 'wish', 'within', 'without', 'womens', 'wont', 'worked', 'working', 'works', 'worth', 'would', 'wouldve', 'wright', 'write', 'x', 'xt', 'ya', 'year', 'years', 'yet', 'yoga', 'youre', 'you’re', 'zero', '¡Lo', 'à', 'è', 'él', 'étant', 'étoiles', 'étonnamment', 'été', 'única', '“I']\n"
     ]
    }
   ],
   "source": [
    "print(vectorizer.get_feature_names())"
   ]
  },
  {
   "cell_type": "markdown",
   "id": "420d7620",
   "metadata": {
    "papermill": {
     "duration": 0.168232,
     "end_time": "2022-05-11T15:42:35.132791",
     "exception": false,
     "start_time": "2022-05-11T15:42:34.964559",
     "status": "completed"
    },
    "tags": []
   },
   "source": [
    "These are all the different unique\n",
    "names that I have in my count vectorizer.\n",
    "So we see here these are all the different\n",
    "unique ones in the entire corpus in every single review\n",
    "that every single customer has.\n",
    "These are all the different words and if we print these\n",
    "to array, we end up with a bunch of numbers.\n"
   ]
  },
  {
   "cell_type": "code",
   "execution_count": 60,
   "id": "91ad11d9",
   "metadata": {
    "id": "CQGFCZiKT06W",
    "papermill": {
     "duration": 0.241583,
     "end_time": "2022-05-11T15:42:35.551471",
     "exception": false,
     "start_time": "2022-05-11T15:42:35.309888",
     "status": "completed"
    },
    "tags": []
   },
   "outputs": [
    {
     "name": "stdout",
     "output_type": "stream",
     "text": [
      "[[0 0 0 ... 0 0 0]\n",
      " [0 0 0 ... 0 0 0]\n",
      " [0 0 0 ... 0 0 0]\n",
      " ...\n",
      " [0 0 0 ... 0 0 0]\n",
      " [0 0 0 ... 0 0 0]\n",
      " [0 0 0 ... 0 0 0]]\n"
     ]
    }
   ],
   "source": [
    "print(reviews_countvectorizer.toarray())"
   ]
  },
  {
   "cell_type": "markdown",
   "id": "1531286d",
   "metadata": {
    "papermill": {
     "duration": 0.178026,
     "end_time": "2022-05-11T15:42:35.909114",
     "exception": false,
     "start_time": "2022-05-11T15:42:35.731088",
     "status": "completed"
    },
    "tags": []
   },
   "source": [
    "These numbers are the numbers\n",
    "that we're going to use to train our machine learning model.\n",
    "This is simply the tokenized version of the entire text data\n",
    "that I have for all customers."
   ]
  },
  {
   "cell_type": "code",
   "execution_count": 61,
   "id": "bb9d06dc",
   "metadata": {
    "id": "Ajna6zStUH8j",
    "papermill": {
     "duration": 0.18043,
     "end_time": "2022-05-11T15:42:36.266351",
     "exception": false,
     "start_time": "2022-05-11T15:42:36.085921",
     "status": "completed"
    },
    "tags": []
   },
   "outputs": [
    {
     "data": {
      "text/plain": [
       "(90, 1803)"
      ]
     },
     "execution_count": 61,
     "metadata": {},
     "output_type": "execute_result"
    }
   ],
   "source": [
    "reviews_countvectorizer.shape"
   ]
  },
  {
   "cell_type": "markdown",
   "id": "1a6e2e3b",
   "metadata": {
    "id": "HdsbGToxFCP9",
    "papermill": {
     "duration": 0.179685,
     "end_time": "2022-05-11T15:42:36.624104",
     "exception": false,
     "start_time": "2022-05-11T15:42:36.444419",
     "status": "completed"
    },
    "tags": []
   },
   "source": [
    "And here we have the shape which is 90 reviews\n",
    "and we have around 1803 columns. That's a large amount of data set.\n"
   ]
  },
  {
   "cell_type": "code",
   "execution_count": 62,
   "id": "c104b949",
   "metadata": {
    "id": "-Y5f8HWWFglY",
    "papermill": {
     "duration": 0.22377,
     "end_time": "2022-05-11T15:42:37.031968",
     "exception": false,
     "start_time": "2022-05-11T15:42:36.808198",
     "status": "completed"
    },
    "tags": []
   },
   "outputs": [],
   "source": [
    "# Convert array to dataframe\n",
    "reviews = pd.DataFrame(reviews_countvectorizer.toarray())"
   ]
  },
  {
   "cell_type": "markdown",
   "id": "7e568549",
   "metadata": {
    "papermill": {
     "duration": 0.178779,
     "end_time": "2022-05-11T15:42:37.395599",
     "exception": false,
     "start_time": "2022-05-11T15:42:37.216820",
     "status": "completed"
    },
    "tags": []
   },
   "source": [
    "Then we take\n",
    "the reviews and put it in X.\n",
    "That simply is going to be my inputs to the model."
   ]
  },
  {
   "cell_type": "code",
   "execution_count": 63,
   "id": "688fbbcc",
   "metadata": {
    "id": "RgxKnJOcFids",
    "papermill": {
     "duration": 0.183279,
     "end_time": "2022-05-11T15:42:37.757829",
     "exception": false,
     "start_time": "2022-05-11T15:42:37.574550",
     "status": "completed"
    },
    "tags": []
   },
   "outputs": [],
   "source": [
    "X = reviews"
   ]
  },
  {
   "cell_type": "code",
   "execution_count": 64,
   "id": "a3f2eb09",
   "metadata": {
    "papermill": {
     "duration": 0.203599,
     "end_time": "2022-05-11T15:42:38.138964",
     "exception": false,
     "start_time": "2022-05-11T15:42:37.935365",
     "status": "completed"
    },
    "tags": []
   },
   "outputs": [
    {
     "data": {
      "text/html": [
       "<div>\n",
       "<style scoped>\n",
       "    .dataframe tbody tr th:only-of-type {\n",
       "        vertical-align: middle;\n",
       "    }\n",
       "\n",
       "    .dataframe tbody tr th {\n",
       "        vertical-align: top;\n",
       "    }\n",
       "\n",
       "    .dataframe thead th {\n",
       "        text-align: right;\n",
       "    }\n",
       "</style>\n",
       "<table border=\"1\" class=\"dataframe\">\n",
       "  <thead>\n",
       "    <tr style=\"text-align: right;\">\n",
       "      <th></th>\n",
       "      <th>0</th>\n",
       "      <th>1</th>\n",
       "      <th>2</th>\n",
       "      <th>3</th>\n",
       "      <th>4</th>\n",
       "      <th>5</th>\n",
       "      <th>6</th>\n",
       "      <th>7</th>\n",
       "      <th>8</th>\n",
       "      <th>9</th>\n",
       "      <th>...</th>\n",
       "      <th>1793</th>\n",
       "      <th>1794</th>\n",
       "      <th>1795</th>\n",
       "      <th>1796</th>\n",
       "      <th>1797</th>\n",
       "      <th>1798</th>\n",
       "      <th>1799</th>\n",
       "      <th>1800</th>\n",
       "      <th>1801</th>\n",
       "      <th>1802</th>\n",
       "    </tr>\n",
       "  </thead>\n",
       "  <tbody>\n",
       "    <tr>\n",
       "      <th>0</th>\n",
       "      <td>0</td>\n",
       "      <td>0</td>\n",
       "      <td>0</td>\n",
       "      <td>0</td>\n",
       "      <td>0</td>\n",
       "      <td>0</td>\n",
       "      <td>0</td>\n",
       "      <td>0</td>\n",
       "      <td>0</td>\n",
       "      <td>0</td>\n",
       "      <td>...</td>\n",
       "      <td>0</td>\n",
       "      <td>0</td>\n",
       "      <td>0</td>\n",
       "      <td>0</td>\n",
       "      <td>0</td>\n",
       "      <td>0</td>\n",
       "      <td>0</td>\n",
       "      <td>0</td>\n",
       "      <td>0</td>\n",
       "      <td>0</td>\n",
       "    </tr>\n",
       "    <tr>\n",
       "      <th>1</th>\n",
       "      <td>0</td>\n",
       "      <td>0</td>\n",
       "      <td>0</td>\n",
       "      <td>0</td>\n",
       "      <td>1</td>\n",
       "      <td>0</td>\n",
       "      <td>1</td>\n",
       "      <td>0</td>\n",
       "      <td>0</td>\n",
       "      <td>0</td>\n",
       "      <td>...</td>\n",
       "      <td>0</td>\n",
       "      <td>0</td>\n",
       "      <td>0</td>\n",
       "      <td>0</td>\n",
       "      <td>0</td>\n",
       "      <td>0</td>\n",
       "      <td>0</td>\n",
       "      <td>0</td>\n",
       "      <td>0</td>\n",
       "      <td>0</td>\n",
       "    </tr>\n",
       "    <tr>\n",
       "      <th>2</th>\n",
       "      <td>0</td>\n",
       "      <td>0</td>\n",
       "      <td>0</td>\n",
       "      <td>0</td>\n",
       "      <td>0</td>\n",
       "      <td>0</td>\n",
       "      <td>0</td>\n",
       "      <td>0</td>\n",
       "      <td>0</td>\n",
       "      <td>0</td>\n",
       "      <td>...</td>\n",
       "      <td>0</td>\n",
       "      <td>0</td>\n",
       "      <td>0</td>\n",
       "      <td>0</td>\n",
       "      <td>0</td>\n",
       "      <td>0</td>\n",
       "      <td>0</td>\n",
       "      <td>0</td>\n",
       "      <td>0</td>\n",
       "      <td>0</td>\n",
       "    </tr>\n",
       "    <tr>\n",
       "      <th>3</th>\n",
       "      <td>0</td>\n",
       "      <td>0</td>\n",
       "      <td>0</td>\n",
       "      <td>0</td>\n",
       "      <td>0</td>\n",
       "      <td>0</td>\n",
       "      <td>0</td>\n",
       "      <td>0</td>\n",
       "      <td>0</td>\n",
       "      <td>0</td>\n",
       "      <td>...</td>\n",
       "      <td>0</td>\n",
       "      <td>0</td>\n",
       "      <td>0</td>\n",
       "      <td>0</td>\n",
       "      <td>0</td>\n",
       "      <td>0</td>\n",
       "      <td>0</td>\n",
       "      <td>0</td>\n",
       "      <td>0</td>\n",
       "      <td>0</td>\n",
       "    </tr>\n",
       "    <tr>\n",
       "      <th>4</th>\n",
       "      <td>0</td>\n",
       "      <td>0</td>\n",
       "      <td>0</td>\n",
       "      <td>0</td>\n",
       "      <td>0</td>\n",
       "      <td>1</td>\n",
       "      <td>0</td>\n",
       "      <td>1</td>\n",
       "      <td>0</td>\n",
       "      <td>1</td>\n",
       "      <td>...</td>\n",
       "      <td>0</td>\n",
       "      <td>0</td>\n",
       "      <td>0</td>\n",
       "      <td>0</td>\n",
       "      <td>0</td>\n",
       "      <td>0</td>\n",
       "      <td>0</td>\n",
       "      <td>0</td>\n",
       "      <td>0</td>\n",
       "      <td>0</td>\n",
       "    </tr>\n",
       "    <tr>\n",
       "      <th>...</th>\n",
       "      <td>...</td>\n",
       "      <td>...</td>\n",
       "      <td>...</td>\n",
       "      <td>...</td>\n",
       "      <td>...</td>\n",
       "      <td>...</td>\n",
       "      <td>...</td>\n",
       "      <td>...</td>\n",
       "      <td>...</td>\n",
       "      <td>...</td>\n",
       "      <td>...</td>\n",
       "      <td>...</td>\n",
       "      <td>...</td>\n",
       "      <td>...</td>\n",
       "      <td>...</td>\n",
       "      <td>...</td>\n",
       "      <td>...</td>\n",
       "      <td>...</td>\n",
       "      <td>...</td>\n",
       "      <td>...</td>\n",
       "      <td>...</td>\n",
       "    </tr>\n",
       "    <tr>\n",
       "      <th>85</th>\n",
       "      <td>0</td>\n",
       "      <td>0</td>\n",
       "      <td>0</td>\n",
       "      <td>0</td>\n",
       "      <td>0</td>\n",
       "      <td>0</td>\n",
       "      <td>0</td>\n",
       "      <td>0</td>\n",
       "      <td>0</td>\n",
       "      <td>0</td>\n",
       "      <td>...</td>\n",
       "      <td>0</td>\n",
       "      <td>0</td>\n",
       "      <td>2</td>\n",
       "      <td>0</td>\n",
       "      <td>0</td>\n",
       "      <td>0</td>\n",
       "      <td>0</td>\n",
       "      <td>0</td>\n",
       "      <td>0</td>\n",
       "      <td>0</td>\n",
       "    </tr>\n",
       "    <tr>\n",
       "      <th>86</th>\n",
       "      <td>0</td>\n",
       "      <td>0</td>\n",
       "      <td>0</td>\n",
       "      <td>0</td>\n",
       "      <td>0</td>\n",
       "      <td>0</td>\n",
       "      <td>0</td>\n",
       "      <td>0</td>\n",
       "      <td>0</td>\n",
       "      <td>0</td>\n",
       "      <td>...</td>\n",
       "      <td>0</td>\n",
       "      <td>2</td>\n",
       "      <td>0</td>\n",
       "      <td>0</td>\n",
       "      <td>0</td>\n",
       "      <td>1</td>\n",
       "      <td>1</td>\n",
       "      <td>0</td>\n",
       "      <td>0</td>\n",
       "      <td>0</td>\n",
       "    </tr>\n",
       "    <tr>\n",
       "      <th>87</th>\n",
       "      <td>0</td>\n",
       "      <td>0</td>\n",
       "      <td>0</td>\n",
       "      <td>0</td>\n",
       "      <td>0</td>\n",
       "      <td>0</td>\n",
       "      <td>0</td>\n",
       "      <td>0</td>\n",
       "      <td>0</td>\n",
       "      <td>0</td>\n",
       "      <td>...</td>\n",
       "      <td>0</td>\n",
       "      <td>0</td>\n",
       "      <td>0</td>\n",
       "      <td>0</td>\n",
       "      <td>0</td>\n",
       "      <td>0</td>\n",
       "      <td>0</td>\n",
       "      <td>0</td>\n",
       "      <td>0</td>\n",
       "      <td>0</td>\n",
       "    </tr>\n",
       "    <tr>\n",
       "      <th>88</th>\n",
       "      <td>0</td>\n",
       "      <td>0</td>\n",
       "      <td>0</td>\n",
       "      <td>0</td>\n",
       "      <td>0</td>\n",
       "      <td>0</td>\n",
       "      <td>0</td>\n",
       "      <td>0</td>\n",
       "      <td>0</td>\n",
       "      <td>0</td>\n",
       "      <td>...</td>\n",
       "      <td>0</td>\n",
       "      <td>0</td>\n",
       "      <td>0</td>\n",
       "      <td>0</td>\n",
       "      <td>0</td>\n",
       "      <td>0</td>\n",
       "      <td>0</td>\n",
       "      <td>0</td>\n",
       "      <td>0</td>\n",
       "      <td>0</td>\n",
       "    </tr>\n",
       "    <tr>\n",
       "      <th>89</th>\n",
       "      <td>0</td>\n",
       "      <td>0</td>\n",
       "      <td>0</td>\n",
       "      <td>0</td>\n",
       "      <td>0</td>\n",
       "      <td>0</td>\n",
       "      <td>0</td>\n",
       "      <td>0</td>\n",
       "      <td>0</td>\n",
       "      <td>0</td>\n",
       "      <td>...</td>\n",
       "      <td>0</td>\n",
       "      <td>0</td>\n",
       "      <td>0</td>\n",
       "      <td>0</td>\n",
       "      <td>0</td>\n",
       "      <td>0</td>\n",
       "      <td>0</td>\n",
       "      <td>0</td>\n",
       "      <td>0</td>\n",
       "      <td>0</td>\n",
       "    </tr>\n",
       "  </tbody>\n",
       "</table>\n",
       "<p>90 rows × 1803 columns</p>\n",
       "</div>"
      ],
      "text/plain": [
       "    0     1     2     3     4     5     6     7     8     9     ...  1793  \\\n",
       "0      0     0     0     0     0     0     0     0     0     0  ...     0   \n",
       "1      0     0     0     0     1     0     1     0     0     0  ...     0   \n",
       "2      0     0     0     0     0     0     0     0     0     0  ...     0   \n",
       "3      0     0     0     0     0     0     0     0     0     0  ...     0   \n",
       "4      0     0     0     0     0     1     0     1     0     1  ...     0   \n",
       "..   ...   ...   ...   ...   ...   ...   ...   ...   ...   ...  ...   ...   \n",
       "85     0     0     0     0     0     0     0     0     0     0  ...     0   \n",
       "86     0     0     0     0     0     0     0     0     0     0  ...     0   \n",
       "87     0     0     0     0     0     0     0     0     0     0  ...     0   \n",
       "88     0     0     0     0     0     0     0     0     0     0  ...     0   \n",
       "89     0     0     0     0     0     0     0     0     0     0  ...     0   \n",
       "\n",
       "    1794  1795  1796  1797  1798  1799  1800  1801  1802  \n",
       "0      0     0     0     0     0     0     0     0     0  \n",
       "1      0     0     0     0     0     0     0     0     0  \n",
       "2      0     0     0     0     0     0     0     0     0  \n",
       "3      0     0     0     0     0     0     0     0     0  \n",
       "4      0     0     0     0     0     0     0     0     0  \n",
       "..   ...   ...   ...   ...   ...   ...   ...   ...   ...  \n",
       "85     0     2     0     0     0     0     0     0     0  \n",
       "86     2     0     0     0     1     1     0     0     0  \n",
       "87     0     0     0     0     0     0     0     0     0  \n",
       "88     0     0     0     0     0     0     0     0     0  \n",
       "89     0     0     0     0     0     0     0     0     0  \n",
       "\n",
       "[90 rows x 1803 columns]"
      ]
     },
     "execution_count": 64,
     "metadata": {},
     "output_type": "execute_result"
    }
   ],
   "source": [
    "X"
   ]
  },
  {
   "cell_type": "markdown",
   "id": "94e1489c",
   "metadata": {
    "papermill": {
     "duration": 0.165256,
     "end_time": "2022-05-11T15:42:38.471082",
     "exception": false,
     "start_time": "2022-05-11T15:42:38.305826",
     "status": "completed"
    },
    "tags": []
   },
   "source": [
    "And the output from my model is what I will use to predict the sentiment. I just wanted to see if the customers are\n",
    "happy or not."
   ]
  },
  {
   "cell_type": "code",
   "execution_count": 65,
   "id": "0ecdbc1d",
   "metadata": {
    "papermill": {
     "duration": 0.180313,
     "end_time": "2022-05-11T15:42:38.818750",
     "exception": false,
     "start_time": "2022-05-11T15:42:38.638437",
     "status": "completed"
    },
    "tags": []
   },
   "outputs": [
    {
     "data": {
      "text/plain": [
       "0     positive\n",
       "1     positive\n",
       "2     positive\n",
       "3     positive\n",
       "4     positive\n",
       "        ...   \n",
       "85     neutral\n",
       "86     neutral\n",
       "87    positive\n",
       "88    negative\n",
       "89    positive\n",
       "Name: Sensitivity, Length: 90, dtype: object"
      ]
     },
     "execution_count": 65,
     "metadata": {},
     "output_type": "execute_result"
    }
   ],
   "source": [
    "y = reviews_df['Sensitivity']\n",
    "y"
   ]
  },
  {
   "cell_type": "markdown",
   "id": "e22e2efb",
   "metadata": {
    "papermill": {
     "duration": 0.168409,
     "end_time": "2022-05-11T15:42:39.154355",
     "exception": false,
     "start_time": "2022-05-11T15:42:38.985946",
     "status": "completed"
    },
    "tags": []
   },
   "source": [
    "__X__ is the inputs and __y__ is the outputs. Which is a bunch of zeros and ones\n",
    "that indicates the output for my model. So now we are ready to train a naive based\n",
    "classified model.\n"
   ]
  },
  {
   "cell_type": "code",
   "execution_count": 66,
   "id": "49b5a15e",
   "metadata": {
    "papermill": {
     "duration": 0.192671,
     "end_time": "2022-05-11T15:42:39.512232",
     "exception": false,
     "start_time": "2022-05-11T15:42:39.319561",
     "status": "completed"
    },
    "tags": []
   },
   "outputs": [
    {
     "data": {
      "text/html": [
       "<div>\n",
       "<style scoped>\n",
       "    .dataframe tbody tr th:only-of-type {\n",
       "        vertical-align: middle;\n",
       "    }\n",
       "\n",
       "    .dataframe tbody tr th {\n",
       "        vertical-align: top;\n",
       "    }\n",
       "\n",
       "    .dataframe thead th {\n",
       "        text-align: right;\n",
       "    }\n",
       "</style>\n",
       "<table border=\"1\" class=\"dataframe\">\n",
       "  <thead>\n",
       "    <tr style=\"text-align: right;\">\n",
       "      <th></th>\n",
       "      <th>ProductID</th>\n",
       "      <th>Stars</th>\n",
       "      <th>Length</th>\n",
       "    </tr>\n",
       "  </thead>\n",
       "  <tbody>\n",
       "    <tr>\n",
       "      <th>count</th>\n",
       "      <td>90.000000</td>\n",
       "      <td>90.000000</td>\n",
       "      <td>90.000000</td>\n",
       "    </tr>\n",
       "    <tr>\n",
       "      <th>mean</th>\n",
       "      <td>534.422222</td>\n",
       "      <td>4.033333</td>\n",
       "      <td>498.644444</td>\n",
       "    </tr>\n",
       "    <tr>\n",
       "      <th>std</th>\n",
       "      <td>78.665267</td>\n",
       "      <td>1.275966</td>\n",
       "      <td>359.489285</td>\n",
       "    </tr>\n",
       "    <tr>\n",
       "      <th>min</th>\n",
       "      <td>392.000000</td>\n",
       "      <td>1.000000</td>\n",
       "      <td>56.000000</td>\n",
       "    </tr>\n",
       "    <tr>\n",
       "      <th>25%</th>\n",
       "      <td>513.000000</td>\n",
       "      <td>4.000000</td>\n",
       "      <td>277.750000</td>\n",
       "    </tr>\n",
       "    <tr>\n",
       "      <th>50%</th>\n",
       "      <td>535.000000</td>\n",
       "      <td>4.500000</td>\n",
       "      <td>440.000000</td>\n",
       "    </tr>\n",
       "    <tr>\n",
       "      <th>75%</th>\n",
       "      <td>559.000000</td>\n",
       "      <td>5.000000</td>\n",
       "      <td>590.000000</td>\n",
       "    </tr>\n",
       "    <tr>\n",
       "      <th>max</th>\n",
       "      <td>659.000000</td>\n",
       "      <td>5.000000</td>\n",
       "      <td>1839.000000</td>\n",
       "    </tr>\n",
       "  </tbody>\n",
       "</table>\n",
       "</div>"
      ],
      "text/plain": [
       "        ProductID      Stars       Length\n",
       "count   90.000000  90.000000    90.000000\n",
       "mean   534.422222   4.033333   498.644444\n",
       "std     78.665267   1.275966   359.489285\n",
       "min    392.000000   1.000000    56.000000\n",
       "25%    513.000000   4.000000   277.750000\n",
       "50%    535.000000   4.500000   440.000000\n",
       "75%    559.000000   5.000000   590.000000\n",
       "max    659.000000   5.000000  1839.000000"
      ]
     },
     "execution_count": 66,
     "metadata": {},
     "output_type": "execute_result"
    }
   ],
   "source": [
    "# Apply the describe method to get statistical summary\n",
    "reviews_df.describe()"
   ]
  },
  {
   "cell_type": "markdown",
   "id": "2d7b8c3c",
   "metadata": {
    "papermill": {
     "duration": 0.182896,
     "end_time": "2022-05-11T15:42:39.863112",
     "exception": false,
     "start_time": "2022-05-11T15:42:39.680216",
     "status": "completed"
    },
    "tags": []
   },
   "source": [
    "- **What is the shape of X and Y**"
   ]
  },
  {
   "cell_type": "code",
   "execution_count": 67,
   "id": "e284e758",
   "metadata": {
    "papermill": {
     "duration": 0.181135,
     "end_time": "2022-05-11T15:42:40.215573",
     "exception": false,
     "start_time": "2022-05-11T15:42:40.034438",
     "status": "completed"
    },
    "tags": []
   },
   "outputs": [
    {
     "data": {
      "text/plain": [
       "(90, 1803)"
      ]
     },
     "execution_count": 67,
     "metadata": {},
     "output_type": "execute_result"
    }
   ],
   "source": [
    "X.shape"
   ]
  },
  {
   "cell_type": "code",
   "execution_count": 68,
   "id": "e385dce2",
   "metadata": {
    "papermill": {
     "duration": 0.176321,
     "end_time": "2022-05-11T15:42:40.568384",
     "exception": false,
     "start_time": "2022-05-11T15:42:40.392063",
     "status": "completed"
    },
    "tags": []
   },
   "outputs": [
    {
     "data": {
      "text/plain": [
       "(90,)"
      ]
     },
     "execution_count": 68,
     "metadata": {},
     "output_type": "execute_result"
    }
   ],
   "source": [
    "y.shape"
   ]
  },
  {
   "cell_type": "markdown",
   "id": "8b9817f6",
   "metadata": {
    "papermill": {
     "duration": 0.169284,
     "end_time": "2022-05-11T15:42:40.906194",
     "exception": false,
     "start_time": "2022-05-11T15:42:40.736910",
     "status": "completed"
    },
    "tags": []
   },
   "source": [
    "The result of the __X.shape__ shows we have 90 rows and 1803 columns.\n",
    "\n",
    "The result of the __y.shape__ shows we have 90 outputs. That makes sense because every single text data, every single row\n",
    "has a simple output corresponding to it as well."
   ]
  },
  {
   "cell_type": "markdown",
   "id": "0a8b3642",
   "metadata": {
    "id": "jIVxZdZ1USAz",
    "papermill": {
     "duration": 0.168742,
     "end_time": "2022-05-11T15:42:41.244537",
     "exception": false,
     "start_time": "2022-05-11T15:42:41.075795",
     "status": "completed"
    },
    "tags": []
   },
   "source": [
    "# TASK #9: TRAIN AND TEST NAIVE BAYES CLASSIFIER MODEL"
   ]
  },
  {
   "cell_type": "markdown",
   "id": "7a10e896",
   "metadata": {
    "papermill": {
     "duration": 0.171665,
     "end_time": "2022-05-11T15:42:41.590873",
     "exception": false,
     "start_time": "2022-05-11T15:42:41.419208",
     "status": "completed"
    },
    "tags": []
   },
   "source": [
    "And now we're pretty much ready to go ahead and train our\n",
    "model. So the first step that we want to do is that we want\n",
    "to divide our data sets into training and testing.\n",
    "So in general when we train any machine learning model we use\n",
    "most of the data set perhaps around let's say 80% of the data\n",
    "to train our model. And then the remaining 20% we use them\n",
    "for testing.\n",
    "And this is very important to make sure that our model is not\n",
    "overfitting the training data. Meaning the model still\n",
    "performs quite well even if the data has never been seen\n",
    "by the model before.\n",
    "And that's why the actual true assessment of the model is\n",
    "on the testing data set which is new, unique dataset.\n"
   ]
  },
  {
   "cell_type": "code",
   "execution_count": 69,
   "id": "41d98ab1",
   "metadata": {
    "id": "V7M9V4QAUnOM",
    "papermill": {
     "duration": 0.254929,
     "end_time": "2022-05-11T15:42:42.014423",
     "exception": false,
     "start_time": "2022-05-11T15:42:41.759494",
     "status": "completed"
    },
    "tags": []
   },
   "outputs": [],
   "source": [
    "from sklearn.model_selection import train_test_split\n",
    "X_train, X_test, y_train, y_test = train_test_split(X, y, test_size=0.2)"
   ]
  },
  {
   "cell_type": "markdown",
   "id": "66e3be6b",
   "metadata": {
    "papermill": {
     "duration": 0.176539,
     "end_time": "2022-05-11T15:42:42.365450",
     "exception": false,
     "start_time": "2022-05-11T15:42:42.188911",
     "status": "completed"
    },
    "tags": []
   },
   "source": [
    "And then next let's import MultinomialNB. After I imported my class, I'm going to instantiate\n",
    "an object out of my class.\n"
   ]
  },
  {
   "cell_type": "code",
   "execution_count": 70,
   "id": "bc23d779",
   "metadata": {
    "id": "sdiBOX1xUnMo",
    "papermill": {
     "duration": 0.394022,
     "end_time": "2022-05-11T15:42:42.929639",
     "exception": false,
     "start_time": "2022-05-11T15:42:42.535617",
     "status": "completed"
    },
    "tags": []
   },
   "outputs": [
    {
     "data": {
      "text/plain": [
       "MultinomialNB()"
      ]
     },
     "execution_count": 70,
     "metadata": {},
     "output_type": "execute_result"
    }
   ],
   "source": [
    "from sklearn.naive_bayes import MultinomialNB\n",
    "\n",
    "NB_classifier = MultinomialNB()\n",
    "NB_classifier.fit(X_train, y_train)\n"
   ]
  },
  {
   "cell_type": "markdown",
   "id": "c4cc0ccb",
   "metadata": {
    "papermill": {
     "duration": 0.177724,
     "end_time": "2022-05-11T15:42:43.281088",
     "exception": false,
     "start_time": "2022-05-11T15:42:43.103364",
     "status": "completed"
    },
    "tags": []
   },
   "source": [
    "So now our model has been successfully trained and now I'm\n",
    "ready to assess or test our model\n",
    "performance."
   ]
  },
  {
   "attachments": {
    "image.png": {
     "image/png": "[encoded data removed]"
    }
   },
   "cell_type": "markdown",
   "id": "dd73de95",
   "metadata": {
    "papermill": {
     "duration": 0.168939,
     "end_time": "2022-05-11T15:42:43.971367",
     "exception": false,
     "start_time": "2022-05-11T15:42:43.802428",
     "status": "completed"
    },
    "tags": []
   },
   "source": [
    "![image.png](attachment:image.png)"
   ]
  },
  {
   "cell_type": "code",
   "execution_count": 71,
   "id": "2dcd763a",
   "metadata": {
    "id": "8CSu7xXdVyGI",
    "papermill": {
     "duration": 0.191521,
     "end_time": "2022-05-11T15:42:44.340739",
     "exception": false,
     "start_time": "2022-05-11T15:42:44.149218",
     "status": "completed"
    },
    "tags": []
   },
   "outputs": [],
   "source": [
    "from sklearn.metrics import classification_report, confusion_matrix"
   ]
  },
  {
   "cell_type": "code",
   "execution_count": 72,
   "id": "fd16f123",
   "metadata": {
    "id": "4gSgbN3JVymd",
    "papermill": {
     "duration": 0.505055,
     "end_time": "2022-05-11T15:42:45.019577",
     "exception": false,
     "start_time": "2022-05-11T15:42:44.514522",
     "status": "completed"
    },
    "tags": []
   },
   "outputs": [
    {
     "data": {
      "text/plain": [
       "<AxesSubplot: >"
      ]
     },
     "execution_count": 72,
     "metadata": {},
     "output_type": "execute_result"
    },
    {
     "data": {
      "image/png": "[encoded data removed]",
      "text/plain": [
       "<Figure size 640x480 with 2 Axes>"
      ]
     },
     "metadata": {},
     "output_type": "display_data"
    }
   ],
   "source": [
    "# Predicting the Test set results\n",
    "y_predict_test = NB_classifier.predict(X_test)\n",
    "cm = confusion_matrix(y_test, y_predict_test)\n",
    "sns.heatmap(cm, annot=True)"
   ]
  },
  {
   "cell_type": "code",
   "execution_count": 73,
   "id": "b819832a",
   "metadata": {
    "papermill": {
     "duration": 0.185771,
     "end_time": "2022-05-11T15:42:45.721534",
     "exception": false,
     "start_time": "2022-05-11T15:42:45.535763",
     "status": "completed"
    },
    "tags": []
   },
   "outputs": [
    {
     "name": "stdout",
     "output_type": "stream",
     "text": [
      "              precision    recall  f1-score   support\n",
      "\n",
      "    negative       0.25      1.00      0.40         1\n",
      "     neutral       0.50      0.50      0.50         2\n",
      "    positive       1.00      0.80      0.89        15\n",
      "\n",
      "    accuracy                           0.78        18\n",
      "   macro avg       0.58      0.77      0.60        18\n",
      "weighted avg       0.90      0.78      0.82        18\n",
      "\n"
     ]
    }
   ],
   "source": [
    "print(classification_report(y_test, y_predict_test))"
   ]
  },
  {
   "cell_type": "markdown",
   "id": "8b9271ab",
   "metadata": {
    "papermill": {
     "duration": 0.170045,
     "end_time": "2022-05-11T15:42:46.413563",
     "exception": false,
     "start_time": "2022-05-11T15:42:46.243518",
     "status": "completed"
    },
    "tags": []
   },
   "source": [
    "- **Train a logistic Regression classifier and assess its performance**"
   ]
  },
  {
   "cell_type": "code",
   "execution_count": 74,
   "id": "33402b44",
   "metadata": {
    "papermill": {
     "duration": 1.173687,
     "end_time": "2022-05-11T15:42:47.760987",
     "exception": false,
     "start_time": "2022-05-11T15:42:46.587300",
     "status": "completed"
    },
    "tags": []
   },
   "outputs": [
    {
     "name": "stdout",
     "output_type": "stream",
     "text": [
      "              precision    recall  f1-score   support\n",
      "\n",
      "    negative       1.00      1.00      1.00         1\n",
      "     neutral       1.00      0.50      0.67         2\n",
      "    positive       0.94      1.00      0.97        15\n",
      "\n",
      "    accuracy                           0.94        18\n",
      "   macro avg       0.98      0.83      0.88        18\n",
      "weighted avg       0.95      0.94      0.94        18\n",
      "\n"
     ]
    },
    {
     "data": {
      "image/png": "[encoded data removed]",
      "text/plain": [
       "<Figure size 640x480 with 2 Axes>"
      ]
     },
     "metadata": {},
     "output_type": "display_data"
    }
   ],
   "source": [
    "from sklearn.linear_model import LogisticRegression\n",
    "\n",
    "model = LogisticRegression()\n",
    "model.fit(X_train, y_train)\n",
    "\n",
    "y_pred = model.predict(X_test)\n",
    "\n",
    "cm = confusion_matrix(y_pred, y_test)\n",
    "sns.heatmap(cm, annot = True)\n",
    "\n",
    "print(classification_report(y_test, y_pred))"
   ]
  },
  {
   "cell_type": "code",
   "execution_count": null,
   "id": "0e012ac1",
   "metadata": {
    "papermill": {
     "duration": 0.171495,
     "end_time": "2022-05-11T15:42:48.450428",
     "exception": false,
     "start_time": "2022-05-11T15:42:48.278933",
     "status": "completed"
    },
    "tags": []
   },
   "outputs": [],
   "source": []
  }
 ],
 "metadata": {
  "kernelspec": {
   "display_name": "Python 3 (ipykernel)",
   "language": "python",
   "name": "python3"
  },
  "language_info": {
   "codemirror_mode": {
    "name": "ipython",
    "version": 3
   },
   "file_extension": ".py",
   "mimetype": "text/x-python",
   "name": "python",
   "nbconvert_exporter": "python",
   "pygments_lexer": "ipython3",
   "version": "3.8.16"
  },
  "papermill": {
   "default_parameters": {},
   "duration": 90.926788,
   "end_time": "2022-05-11T15:42:49.445381",
   "environment_variables": {},
   "exception": null,
   "input_path": "__notebook__.ipynb",
   "output_path": "__notebook__.ipynb",
   "parameters": {},
   "start_time": "2022-05-11T15:41:18.518593",
   "version": "2.3.4"
  }
 },
 "nbformat": 4,
 "nbformat_minor": 5
}
